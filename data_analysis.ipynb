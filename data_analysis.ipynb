{
  "nbformat": 4,
  "nbformat_minor": 0,
  "metadata": {
    "colab": {
      "provenance": [],
      "include_colab_link": true
    },
    "kernelspec": {
      "name": "python3",
      "display_name": "Python 3"
    },
    "language_info": {
      "name": "python"
    }
  },
  "cells": [
    {
      "cell_type": "markdown",
      "metadata": {
        "id": "view-in-github",
        "colab_type": "text"
      },
      "source": [
        "<a href=\"https://colab.research.google.com/github/dkioroglou/programmers_salaries_2023/blob/main/data_analysis.ipynb\" target=\"_parent\"><img src=\"https://colab.research.google.com/assets/colab-badge.svg\" alt=\"Open In Colab\"/></a>"
      ]
    },
    {
      "cell_type": "code",
      "execution_count": 3,
      "metadata": {
        "id": "_jOXNVkKQmem"
      },
      "outputs": [],
      "source": [
        "import pandas as pd\n",
        "import numpy as np\n",
        "import statsmodels.api as sm\n",
        "import matplotlib.pyplot as plt\n",
        "import seaborn as sns"
      ]
    },
    {
      "cell_type": "code",
      "source": [
        "df = pd.read_csv(\"https://raw.githubusercontent.com/dkioroglou/programmers_salaries_2023/main/data/salaries_2023.csv\")"
      ],
      "metadata": {
        "id": "Qx7xXAazQyJy"
      },
      "execution_count": 4,
      "outputs": []
    },
    {
      "cell_type": "code",
      "source": [
        "df = df[[\n",
        "      '[Fixed] Ποιος είναι ο ΕΤΗΣΙΟΣ ΚΑΘΑΡΟΣ μισθός σου σε €;',\n",
        "      'Με ποιες γλώσσες προγραμματισμού δουλεύεις επαγγελματικά αυτή την περίοδο;',\n",
        "      'Πόσα χρόνια δουλεύεις επαγγελματικά ως προγραμματιστής;',\n",
        "      'Ποιό είναι το επίπεδο σπουδών σου;',\n",
        "      'Φύλλο;',\n",
        "      '[GROUP] Σε ποια πόλη δουλεύεις, Greece ή Abroad',\n",
        "      'Τι μέγεθος είναι η εταιρεία που δουλεύεις;'\n",
        "      ]]\n",
        "\n",
        "df.columns = [\n",
        "      'salary',\n",
        "      'languages',\n",
        "      'experience',\n",
        "      'studies',\n",
        "      'gender',\n",
        "      'jobLocation',\n",
        "      'companySize'\n",
        "      ]"
      ],
      "metadata": {
        "id": "QY8-Z2WURPNL"
      },
      "execution_count": 11,
      "outputs": []
    },
    {
      "cell_type": "markdown",
      "source": [
        "# Missing values distribution"
      ],
      "metadata": {
        "id": "ZN_YF7aKaz5q"
      }
    },
    {
      "cell_type": "code",
      "source": [
        "df.isna().sum()"
      ],
      "metadata": {
        "colab": {
          "base_uri": "https://localhost:8080/"
        },
        "id": "LX-ecHTEa4oX",
        "outputId": "944d9bd1-cf2c-4969-b348-96140bd69f9a"
      },
      "execution_count": 12,
      "outputs": [
        {
          "output_type": "execute_result",
          "data": {
            "text/plain": [
              "salary         0\n",
              "languages      0\n",
              "experience     0\n",
              "studies        0\n",
              "gender         2\n",
              "jobLocation    0\n",
              "companySize    0\n",
              "dtype: int64"
            ]
          },
          "metadata": {},
          "execution_count": 12
        }
      ]
    },
    {
      "cell_type": "code",
      "source": [
        "df['gender'].value_counts()"
      ],
      "metadata": {
        "colab": {
          "base_uri": "https://localhost:8080/"
        },
        "id": "8W47jQwkaetv",
        "outputId": "44e2fef3-bd7a-4b19-b34d-1b1f0a3ba1ea"
      },
      "execution_count": 13,
      "outputs": [
        {
          "output_type": "execute_result",
          "data": {
            "text/plain": [
              "Άντρας               949\n",
              "Γυναίκα               53\n",
              "Προτιμώ να μην πω      1\n",
              "Nuclear Sub            1\n",
              "Name: gender, dtype: int64"
            ]
          },
          "metadata": {},
          "execution_count": 13
        }
      ]
    },
    {
      "cell_type": "code",
      "source": [
        "mask = df.isna()['gender']\n",
        "df[mask]"
      ],
      "metadata": {
        "colab": {
          "base_uri": "https://localhost:8080/",
          "height": 112
        },
        "id": "YGd-aBNNZ6zP",
        "outputId": "d8bf5203-b627-40e1-b7e3-7dc7f0309987"
      },
      "execution_count": 14,
      "outputs": [
        {
          "output_type": "execute_result",
          "data": {
            "text/plain": [
              "      salary         languages  experience     studies gender jobLocation  \\\n",
              "64   19600.0  JavaScript, Ruby           7  Bachelor's    NaN      Ελλάδα   \n",
              "541  10100.0  Java, JavaScript           1  Bachelor's    NaN      Ελλάδα   \n",
              "\n",
              "    companySize  \n",
              "64    201 - 500  \n",
              "541   101 - 200  "
            ],
            "text/html": [
              "\n",
              "  <div id=\"df-d6cc3046-b360-418e-9c79-e3ae66dd6c20\" class=\"colab-df-container\">\n",
              "    <div>\n",
              "<style scoped>\n",
              "    .dataframe tbody tr th:only-of-type {\n",
              "        vertical-align: middle;\n",
              "    }\n",
              "\n",
              "    .dataframe tbody tr th {\n",
              "        vertical-align: top;\n",
              "    }\n",
              "\n",
              "    .dataframe thead th {\n",
              "        text-align: right;\n",
              "    }\n",
              "</style>\n",
              "<table border=\"1\" class=\"dataframe\">\n",
              "  <thead>\n",
              "    <tr style=\"text-align: right;\">\n",
              "      <th></th>\n",
              "      <th>salary</th>\n",
              "      <th>languages</th>\n",
              "      <th>experience</th>\n",
              "      <th>studies</th>\n",
              "      <th>gender</th>\n",
              "      <th>jobLocation</th>\n",
              "      <th>companySize</th>\n",
              "    </tr>\n",
              "  </thead>\n",
              "  <tbody>\n",
              "    <tr>\n",
              "      <th>64</th>\n",
              "      <td>19600.0</td>\n",
              "      <td>JavaScript, Ruby</td>\n",
              "      <td>7</td>\n",
              "      <td>Bachelor's</td>\n",
              "      <td>NaN</td>\n",
              "      <td>Ελλάδα</td>\n",
              "      <td>201 - 500</td>\n",
              "    </tr>\n",
              "    <tr>\n",
              "      <th>541</th>\n",
              "      <td>10100.0</td>\n",
              "      <td>Java, JavaScript</td>\n",
              "      <td>1</td>\n",
              "      <td>Bachelor's</td>\n",
              "      <td>NaN</td>\n",
              "      <td>Ελλάδα</td>\n",
              "      <td>101 - 200</td>\n",
              "    </tr>\n",
              "  </tbody>\n",
              "</table>\n",
              "</div>\n",
              "    <div class=\"colab-df-buttons\">\n",
              "\n",
              "  <div class=\"colab-df-container\">\n",
              "    <button class=\"colab-df-convert\" onclick=\"convertToInteractive('df-d6cc3046-b360-418e-9c79-e3ae66dd6c20')\"\n",
              "            title=\"Convert this dataframe to an interactive table.\"\n",
              "            style=\"display:none;\">\n",
              "\n",
              "  <svg xmlns=\"http://www.w3.org/2000/svg\" height=\"24px\" viewBox=\"0 -960 960 960\">\n",
              "    <path d=\"M120-120v-720h720v720H120Zm60-500h600v-160H180v160Zm220 220h160v-160H400v160Zm0 220h160v-160H400v160ZM180-400h160v-160H180v160Zm440 0h160v-160H620v160ZM180-180h160v-160H180v160Zm440 0h160v-160H620v160Z\"/>\n",
              "  </svg>\n",
              "    </button>\n",
              "\n",
              "  <style>\n",
              "    .colab-df-container {\n",
              "      display:flex;\n",
              "      gap: 12px;\n",
              "    }\n",
              "\n",
              "    .colab-df-convert {\n",
              "      background-color: #E8F0FE;\n",
              "      border: none;\n",
              "      border-radius: 50%;\n",
              "      cursor: pointer;\n",
              "      display: none;\n",
              "      fill: #1967D2;\n",
              "      height: 32px;\n",
              "      padding: 0 0 0 0;\n",
              "      width: 32px;\n",
              "    }\n",
              "\n",
              "    .colab-df-convert:hover {\n",
              "      background-color: #E2EBFA;\n",
              "      box-shadow: 0px 1px 2px rgba(60, 64, 67, 0.3), 0px 1px 3px 1px rgba(60, 64, 67, 0.15);\n",
              "      fill: #174EA6;\n",
              "    }\n",
              "\n",
              "    .colab-df-buttons div {\n",
              "      margin-bottom: 4px;\n",
              "    }\n",
              "\n",
              "    [theme=dark] .colab-df-convert {\n",
              "      background-color: #3B4455;\n",
              "      fill: #D2E3FC;\n",
              "    }\n",
              "\n",
              "    [theme=dark] .colab-df-convert:hover {\n",
              "      background-color: #434B5C;\n",
              "      box-shadow: 0px 1px 3px 1px rgba(0, 0, 0, 0.15);\n",
              "      filter: drop-shadow(0px 1px 2px rgba(0, 0, 0, 0.3));\n",
              "      fill: #FFFFFF;\n",
              "    }\n",
              "  </style>\n",
              "\n",
              "    <script>\n",
              "      const buttonEl =\n",
              "        document.querySelector('#df-d6cc3046-b360-418e-9c79-e3ae66dd6c20 button.colab-df-convert');\n",
              "      buttonEl.style.display =\n",
              "        google.colab.kernel.accessAllowed ? 'block' : 'none';\n",
              "\n",
              "      async function convertToInteractive(key) {\n",
              "        const element = document.querySelector('#df-d6cc3046-b360-418e-9c79-e3ae66dd6c20');\n",
              "        const dataTable =\n",
              "          await google.colab.kernel.invokeFunction('convertToInteractive',\n",
              "                                                    [key], {});\n",
              "        if (!dataTable) return;\n",
              "\n",
              "        const docLinkHtml = 'Like what you see? Visit the ' +\n",
              "          '<a target=\"_blank\" href=https://colab.research.google.com/notebooks/data_table.ipynb>data table notebook</a>'\n",
              "          + ' to learn more about interactive tables.';\n",
              "        element.innerHTML = '';\n",
              "        dataTable['output_type'] = 'display_data';\n",
              "        await google.colab.output.renderOutput(dataTable, element);\n",
              "        const docLink = document.createElement('div');\n",
              "        docLink.innerHTML = docLinkHtml;\n",
              "        element.appendChild(docLink);\n",
              "      }\n",
              "    </script>\n",
              "  </div>\n",
              "\n",
              "\n",
              "<div id=\"df-02b81951-ee79-4b2c-ba3c-c0845c03af4e\">\n",
              "  <button class=\"colab-df-quickchart\" onclick=\"quickchart('df-02b81951-ee79-4b2c-ba3c-c0845c03af4e')\"\n",
              "            title=\"Suggest charts\"\n",
              "            style=\"display:none;\">\n",
              "\n",
              "<svg xmlns=\"http://www.w3.org/2000/svg\" height=\"24px\"viewBox=\"0 0 24 24\"\n",
              "     width=\"24px\">\n",
              "    <g>\n",
              "        <path d=\"M19 3H5c-1.1 0-2 .9-2 2v14c0 1.1.9 2 2 2h14c1.1 0 2-.9 2-2V5c0-1.1-.9-2-2-2zM9 17H7v-7h2v7zm4 0h-2V7h2v10zm4 0h-2v-4h2v4z\"/>\n",
              "    </g>\n",
              "</svg>\n",
              "  </button>\n",
              "\n",
              "<style>\n",
              "  .colab-df-quickchart {\n",
              "      --bg-color: #E8F0FE;\n",
              "      --fill-color: #1967D2;\n",
              "      --hover-bg-color: #E2EBFA;\n",
              "      --hover-fill-color: #174EA6;\n",
              "      --disabled-fill-color: #AAA;\n",
              "      --disabled-bg-color: #DDD;\n",
              "  }\n",
              "\n",
              "  [theme=dark] .colab-df-quickchart {\n",
              "      --bg-color: #3B4455;\n",
              "      --fill-color: #D2E3FC;\n",
              "      --hover-bg-color: #434B5C;\n",
              "      --hover-fill-color: #FFFFFF;\n",
              "      --disabled-bg-color: #3B4455;\n",
              "      --disabled-fill-color: #666;\n",
              "  }\n",
              "\n",
              "  .colab-df-quickchart {\n",
              "    background-color: var(--bg-color);\n",
              "    border: none;\n",
              "    border-radius: 50%;\n",
              "    cursor: pointer;\n",
              "    display: none;\n",
              "    fill: var(--fill-color);\n",
              "    height: 32px;\n",
              "    padding: 0;\n",
              "    width: 32px;\n",
              "  }\n",
              "\n",
              "  .colab-df-quickchart:hover {\n",
              "    background-color: var(--hover-bg-color);\n",
              "    box-shadow: 0 1px 2px rgba(60, 64, 67, 0.3), 0 1px 3px 1px rgba(60, 64, 67, 0.15);\n",
              "    fill: var(--button-hover-fill-color);\n",
              "  }\n",
              "\n",
              "  .colab-df-quickchart-complete:disabled,\n",
              "  .colab-df-quickchart-complete:disabled:hover {\n",
              "    background-color: var(--disabled-bg-color);\n",
              "    fill: var(--disabled-fill-color);\n",
              "    box-shadow: none;\n",
              "  }\n",
              "\n",
              "  .colab-df-spinner {\n",
              "    border: 2px solid var(--fill-color);\n",
              "    border-color: transparent;\n",
              "    border-bottom-color: var(--fill-color);\n",
              "    animation:\n",
              "      spin 1s steps(1) infinite;\n",
              "  }\n",
              "\n",
              "  @keyframes spin {\n",
              "    0% {\n",
              "      border-color: transparent;\n",
              "      border-bottom-color: var(--fill-color);\n",
              "      border-left-color: var(--fill-color);\n",
              "    }\n",
              "    20% {\n",
              "      border-color: transparent;\n",
              "      border-left-color: var(--fill-color);\n",
              "      border-top-color: var(--fill-color);\n",
              "    }\n",
              "    30% {\n",
              "      border-color: transparent;\n",
              "      border-left-color: var(--fill-color);\n",
              "      border-top-color: var(--fill-color);\n",
              "      border-right-color: var(--fill-color);\n",
              "    }\n",
              "    40% {\n",
              "      border-color: transparent;\n",
              "      border-right-color: var(--fill-color);\n",
              "      border-top-color: var(--fill-color);\n",
              "    }\n",
              "    60% {\n",
              "      border-color: transparent;\n",
              "      border-right-color: var(--fill-color);\n",
              "    }\n",
              "    80% {\n",
              "      border-color: transparent;\n",
              "      border-right-color: var(--fill-color);\n",
              "      border-bottom-color: var(--fill-color);\n",
              "    }\n",
              "    90% {\n",
              "      border-color: transparent;\n",
              "      border-bottom-color: var(--fill-color);\n",
              "    }\n",
              "  }\n",
              "</style>\n",
              "\n",
              "  <script>\n",
              "    async function quickchart(key) {\n",
              "      const quickchartButtonEl =\n",
              "        document.querySelector('#' + key + ' button');\n",
              "      quickchartButtonEl.disabled = true;  // To prevent multiple clicks.\n",
              "      quickchartButtonEl.classList.add('colab-df-spinner');\n",
              "      try {\n",
              "        const charts = await google.colab.kernel.invokeFunction(\n",
              "            'suggestCharts', [key], {});\n",
              "      } catch (error) {\n",
              "        console.error('Error during call to suggestCharts:', error);\n",
              "      }\n",
              "      quickchartButtonEl.classList.remove('colab-df-spinner');\n",
              "      quickchartButtonEl.classList.add('colab-df-quickchart-complete');\n",
              "    }\n",
              "    (() => {\n",
              "      let quickchartButtonEl =\n",
              "        document.querySelector('#df-02b81951-ee79-4b2c-ba3c-c0845c03af4e button');\n",
              "      quickchartButtonEl.style.display =\n",
              "        google.colab.kernel.accessAllowed ? 'block' : 'none';\n",
              "    })();\n",
              "  </script>\n",
              "</div>\n",
              "    </div>\n",
              "  </div>\n"
            ]
          },
          "metadata": {},
          "execution_count": 14
        }
      ]
    },
    {
      "cell_type": "code",
      "source": [
        "# Remove entries with missing or unspecified gender\n",
        "df =  df.drop([64, 541, 68, 167])"
      ],
      "metadata": {
        "id": "SIff9_cdc0eT"
      },
      "execution_count": 15,
      "outputs": []
    },
    {
      "cell_type": "markdown",
      "source": [
        "# Distribution of salaries"
      ],
      "metadata": {
        "id": "M1a9hifCrnPw"
      }
    },
    {
      "cell_type": "code",
      "source": [
        "df['salary'].describe()"
      ],
      "metadata": {
        "colab": {
          "base_uri": "https://localhost:8080/"
        },
        "id": "0ykm7dmirq0Q",
        "outputId": "bd189fe4-b3d6-4b81-e351-9aa9c0a3b282"
      },
      "execution_count": 16,
      "outputs": [
        {
          "output_type": "execute_result",
          "data": {
            "text/plain": [
              "count      1002.000000\n",
              "mean      24117.334262\n",
              "std       16305.507428\n",
              "min          15.008000\n",
              "25%       14820.000000\n",
              "50%       20155.000000\n",
              "75%       27595.000000\n",
              "max      180000.000000\n",
              "Name: salary, dtype: float64"
            ]
          },
          "metadata": {},
          "execution_count": 16
        }
      ]
    },
    {
      "cell_type": "code",
      "source": [
        "sns.histplot(df['salary'])"
      ],
      "metadata": {
        "colab": {
          "base_uri": "https://localhost:8080/",
          "height": 470
        },
        "id": "ZnrBngmTr1Hs",
        "outputId": "2103abc4-9876-4267-a3d2-52ec06899f7e"
      },
      "execution_count": 17,
      "outputs": [
        {
          "output_type": "execute_result",
          "data": {
            "text/plain": [
              "<Axes: xlabel='salary', ylabel='Count'>"
            ]
          },
          "metadata": {},
          "execution_count": 17
        },
        {
          "output_type": "display_data",
          "data": {
            "text/plain": [
              "<Figure size 640x480 with 1 Axes>"
            ],
            "image/png": "[encoded data removed]"
          },
          "metadata": {}
        }
      ]
    },
    {
      "cell_type": "code",
      "source": [
        "# Remove outliers\n",
        "# Select data with salaries between the 10th and 90th percentiles of salaries\n",
        "perc10th =  df['salary'].quantile(0.1)\n",
        "perc90th = df['salary'].quantile(0.9)\n",
        "df = df.query('salary >= @perc10th & salary <= @perc90th')"
      ],
      "metadata": {
        "id": "SDzM09iDsP-2"
      },
      "execution_count": 18,
      "outputs": []
    },
    {
      "cell_type": "code",
      "source": [
        "sns.histplot(df['salary'])"
      ],
      "metadata": {
        "colab": {
          "base_uri": "https://localhost:8080/",
          "height": 466
        },
        "id": "EA67veNCvMxx",
        "outputId": "7cc2e226-2c5c-4635-a915-27f2f797d073"
      },
      "execution_count": 19,
      "outputs": [
        {
          "output_type": "execute_result",
          "data": {
            "text/plain": [
              "<Axes: xlabel='salary', ylabel='Count'>"
            ]
          },
          "metadata": {},
          "execution_count": 19
        },
        {
          "output_type": "display_data",
          "data": {
            "text/plain": [
              "<Figure size 640x480 with 1 Axes>"
            ],
            "image/png": "[encoded data removed]"
          },
          "metadata": {}
        }
      ]
    },
    {
      "cell_type": "markdown",
      "source": [
        "## <font color=\"#EB984E\">General remark</font>\n",
        "\n",
        "Salaries are not normally distributed. This makes things more difficult, but... that's life! To keep things simple, the salaries were not transformed and a simple OLS regression was performed on the data.\n",
        "\n",
        "\n"
      ],
      "metadata": {
        "id": "RaexNW4sr_LX"
      }
    },
    {
      "cell_type": "markdown",
      "source": [
        "# Sample size after filtering"
      ],
      "metadata": {
        "id": "Y3PlbJODAyJA"
      }
    },
    {
      "cell_type": "code",
      "source": [
        "df.shape"
      ],
      "metadata": {
        "colab": {
          "base_uri": "https://localhost:8080/"
        },
        "id": "PtuATzVZZaXe",
        "outputId": "e828251a-80ad-4c75-db9f-c38b1933d2cd"
      },
      "execution_count": 20,
      "outputs": [
        {
          "output_type": "execute_result",
          "data": {
            "text/plain": [
              "(809, 7)"
            ]
          },
          "metadata": {},
          "execution_count": 20
        }
      ]
    },
    {
      "cell_type": "markdown",
      "source": [
        "# Gender distribution after filtering"
      ],
      "metadata": {
        "id": "Qt6tpPoaatUQ"
      }
    },
    {
      "cell_type": "code",
      "source": [
        "df['gender'].value_counts()"
      ],
      "metadata": {
        "colab": {
          "base_uri": "https://localhost:8080/"
        },
        "id": "aC4kDt3rvcLM",
        "outputId": "26e26c04-2fc0-42ec-dc4c-3ca64dc30fa9"
      },
      "execution_count": 21,
      "outputs": [
        {
          "output_type": "execute_result",
          "data": {
            "text/plain": [
              "Άντρας     768\n",
              "Γυναίκα     41\n",
              "Name: gender, dtype: int64"
            ]
          },
          "metadata": {},
          "execution_count": 21
        }
      ]
    },
    {
      "cell_type": "markdown",
      "source": [
        "## Feature engineering and recoding"
      ],
      "metadata": {
        "id": "r0ow7o7pdiM3"
      }
    },
    {
      "cell_type": "code",
      "source": [
        "df['languagesNumber'] = df['languages'].map(lambda x: len(x.split(\",\")) if ',' in x else 1)"
      ],
      "metadata": {
        "id": "uByINkm4VrZU"
      },
      "execution_count": 22,
      "outputs": []
    },
    {
      "cell_type": "code",
      "source": [
        "df['languagesNumber'].value_counts()"
      ],
      "metadata": {
        "id": "yeXe1qXQA4_x",
        "outputId": "a2e65f49-d190-4ec2-b765-223b81a9cb69",
        "colab": {
          "base_uri": "https://localhost:8080/"
        }
      },
      "execution_count": 23,
      "outputs": [
        {
          "output_type": "execute_result",
          "data": {
            "text/plain": [
              "1    435\n",
              "2    263\n",
              "3     83\n",
              "4     18\n",
              "5      7\n",
              "6      3\n",
              "Name: languagesNumber, dtype: int64"
            ]
          },
          "metadata": {},
          "execution_count": 23
        }
      ]
    },
    {
      "cell_type": "code",
      "source": [
        "df['companySize'].value_counts()"
      ],
      "metadata": {
        "colab": {
          "base_uri": "https://localhost:8080/"
        },
        "id": "QExL_Z79dsk8",
        "outputId": "c2419731-6f6b-43fd-f78d-f4739caf580a"
      },
      "execution_count": 24,
      "outputs": [
        {
          "output_type": "execute_result",
          "data": {
            "text/plain": [
              "501+         256\n",
              "11 - 50      179\n",
              "201 - 500    106\n",
              "51 - 100      94\n",
              "101 - 200     92\n",
              "1 - 10        82\n",
              "Name: companySize, dtype: int64"
            ]
          },
          "metadata": {},
          "execution_count": 24
        }
      ]
    },
    {
      "cell_type": "code",
      "source": [
        "df['companySizeBinned'] = df['companySize'].map({\n",
        "                                                '1 - 10':'small',\n",
        "                                                '11 - 50': 'small',\n",
        "                                                '51 - 100': 'small',\n",
        "                                                '101 - 200': 'medium',\n",
        "                                                '201 - 500': 'medium',\n",
        "                                                '501+': 'large'\n",
        "                                                })"
      ],
      "metadata": {
        "id": "TPnq3xrRd4pV"
      },
      "execution_count": 25,
      "outputs": []
    },
    {
      "cell_type": "code",
      "source": [
        "df['companySizeBinned'].value_counts()"
      ],
      "metadata": {
        "colab": {
          "base_uri": "https://localhost:8080/"
        },
        "id": "-B0LCLHxew-j",
        "outputId": "bb238ac7-be42-46bc-9dfc-467698a4b7b2"
      },
      "execution_count": 26,
      "outputs": [
        {
          "output_type": "execute_result",
          "data": {
            "text/plain": [
              "small     355\n",
              "large     256\n",
              "medium    198\n",
              "Name: companySizeBinned, dtype: int64"
            ]
          },
          "metadata": {},
          "execution_count": 26
        }
      ]
    },
    {
      "cell_type": "code",
      "source": [
        "df['companySizeBinnedRecoded'] = df['companySizeBinned'].map({\"small\":1, \"medium\":2, \"large\": 3})"
      ],
      "metadata": {
        "id": "R6q9SWfMfpSR"
      },
      "execution_count": 27,
      "outputs": []
    },
    {
      "cell_type": "code",
      "source": [
        "df['genderRecoded'] = df['gender'].map({\"Άντρας\":1, \"Γυναίκα\":0})"
      ],
      "metadata": {
        "id": "5RuLAXUVgjJY"
      },
      "execution_count": 28,
      "outputs": []
    },
    {
      "cell_type": "code",
      "source": [
        "df['jobLocationRecoded'] = df['jobLocation'].map({\"Ελλάδα\":1, \"Εξωτερικό\":0})"
      ],
      "metadata": {
        "id": "grwEJAl2iBL5"
      },
      "execution_count": 29,
      "outputs": []
    },
    {
      "cell_type": "code",
      "source": [
        "df['studies'].value_counts()"
      ],
      "metadata": {
        "id": "hZkf-NnsAYF7",
        "outputId": "50b54282-ba23-4f8d-acad-d796c02518ed",
        "colab": {
          "base_uri": "https://localhost:8080/"
        }
      },
      "execution_count": 31,
      "outputs": [
        {
          "output_type": "execute_result",
          "data": {
            "text/plain": [
              "Bachelor's                        411\n",
              "Master                            280\n",
              "Λύκειο                             75\n",
              "ΙΕΚ                                32\n",
              "PhD                                 6\n",
              "Χωρίς Δευτεροβάθμια Εκπαίδευση      5\n",
              "Name: studies, dtype: int64"
            ]
          },
          "metadata": {},
          "execution_count": 31
        }
      ]
    },
    {
      "cell_type": "code",
      "source": [
        "df['studiesRecoded'] = df['studies'].map({\n",
        "    'Χωρίς Δευτεροβάθμια Εκπαίδευση':1,\n",
        "    'Λύκειο': 2,\n",
        "    'ΙΕΚ': 3,\n",
        "    \"Bachelor's\": 4,\n",
        "    'Master': 5,\n",
        "    'PhD': 6\n",
        "})"
      ],
      "metadata": {
        "id": "7jif-aCHAiuv"
      },
      "execution_count": 35,
      "outputs": []
    },
    {
      "cell_type": "markdown",
      "source": [
        "# Ordinary Least Square regression"
      ],
      "metadata": {
        "id": "Mu5haiv5hxdk"
      }
    },
    {
      "cell_type": "code",
      "source": [
        "X = df[['genderRecoded', 'studiesRecoded', 'experience', 'languagesNumber', 'companySizeBinnedRecoded', 'jobLocationRecoded']]\n",
        "X.insert(0, 'intercept', 1)\n",
        "y = df['salary']"
      ],
      "metadata": {
        "id": "g_4SQWUSh4ml"
      },
      "execution_count": 36,
      "outputs": []
    },
    {
      "cell_type": "code",
      "source": [
        "model = sm.OLS(y, X).fit()"
      ],
      "metadata": {
        "id": "U6L9Kf0fiqKN"
      },
      "execution_count": 37,
      "outputs": []
    },
    {
      "cell_type": "code",
      "source": [
        "model.summary()"
      ],
      "metadata": {
        "colab": {
          "base_uri": "https://localhost:8080/",
          "height": 558
        },
        "id": "8k4QIbDOi0re",
        "outputId": "5f329c15-b025-49dc-fd3f-179f227b07c2"
      },
      "execution_count": 38,
      "outputs": [
        {
          "output_type": "execute_result",
          "data": {
            "text/plain": [
              "<class 'statsmodels.iolib.summary.Summary'>\n",
              "\"\"\"\n",
              "                            OLS Regression Results                            \n",
              "==============================================================================\n",
              "Dep. Variable:                 salary   R-squared:                       0.322\n",
              "Model:                            OLS   Adj. R-squared:                  0.317\n",
              "Method:                 Least Squares   F-statistic:                     63.55\n",
              "Date:                Mon, 27 Nov 2023   Prob (F-statistic):           1.54e-64\n",
              "Time:                        18:24:57   Log-Likelihood:                -8095.0\n",
              "No. Observations:                 809   AIC:                         1.620e+04\n",
              "Df Residuals:                     802   BIC:                         1.624e+04\n",
              "Df Model:                           6                                         \n",
              "Covariance Type:            nonrobust                                         \n",
              "============================================================================================\n",
              "                               coef    std err          t      P>|t|      [0.025      0.975]\n",
              "--------------------------------------------------------------------------------------------\n",
              "intercept                 2.171e+04   1533.956     14.154      0.000    1.87e+04    2.47e+04\n",
              "genderRecoded              752.4278    865.808      0.869      0.385    -947.089    2451.945\n",
              "studiesRecoded             216.9936    209.315      1.037      0.300    -193.876     627.863\n",
              "experience                 713.9436     45.670     15.632      0.000     624.296     803.591\n",
              "languagesNumber            -64.5090    223.852     -0.288      0.773    -503.913     374.895\n",
              "companySizeBinnedRecoded  1027.1131    220.604      4.656      0.000     594.085    1460.142\n",
              "jobLocationRecoded       -7664.1769    714.001    -10.734      0.000   -9065.707   -6262.646\n",
              "==============================================================================\n",
              "Omnibus:                       25.343   Durbin-Watson:                   2.045\n",
              "Prob(Omnibus):                  0.000   Jarque-Bera (JB):               60.067\n",
              "Skew:                          -0.014   Prob(JB):                     9.05e-14\n",
              "Kurtosis:                       4.335   Cond. No.                         64.4\n",
              "==============================================================================\n",
              "\n",
              "Notes:\n",
              "[1] Standard Errors assume that the covariance matrix of the errors is correctly specified.\n",
              "\"\"\""
            ],
            "text/html": [
              "<table class=\"simpletable\">\n",
              "<caption>OLS Regression Results</caption>\n",
              "<tr>\n",
              "  <th>Dep. Variable:</th>         <td>salary</td>      <th>  R-squared:         </th> <td>   0.322</td> \n",
              "</tr>\n",
              "<tr>\n",
              "  <th>Model:</th>                   <td>OLS</td>       <th>  Adj. R-squared:    </th> <td>   0.317</td> \n",
              "</tr>\n",
              "<tr>\n",
              "  <th>Method:</th>             <td>Least Squares</td>  <th>  F-statistic:       </th> <td>   63.55</td> \n",
              "</tr>\n",
              "<tr>\n",
              "  <th>Date:</th>             <td>Mon, 27 Nov 2023</td> <th>  Prob (F-statistic):</th> <td>1.54e-64</td> \n",
              "</tr>\n",
              "<tr>\n",
              "  <th>Time:</th>                 <td>18:24:57</td>     <th>  Log-Likelihood:    </th> <td> -8095.0</td> \n",
              "</tr>\n",
              "<tr>\n",
              "  <th>No. Observations:</th>      <td>   809</td>      <th>  AIC:               </th> <td>1.620e+04</td>\n",
              "</tr>\n",
              "<tr>\n",
              "  <th>Df Residuals:</th>          <td>   802</td>      <th>  BIC:               </th> <td>1.624e+04</td>\n",
              "</tr>\n",
              "<tr>\n",
              "  <th>Df Model:</th>              <td>     6</td>      <th>                     </th>     <td> </td>    \n",
              "</tr>\n",
              "<tr>\n",
              "  <th>Covariance Type:</th>      <td>nonrobust</td>    <th>                     </th>     <td> </td>    \n",
              "</tr>\n",
              "</table>\n",
              "<table class=\"simpletable\">\n",
              "<tr>\n",
              "              <td></td>                <th>coef</th>     <th>std err</th>      <th>t</th>      <th>P>|t|</th>  <th>[0.025</th>    <th>0.975]</th>  \n",
              "</tr>\n",
              "<tr>\n",
              "  <th>intercept</th>                <td> 2.171e+04</td> <td> 1533.956</td> <td>   14.154</td> <td> 0.000</td> <td> 1.87e+04</td> <td> 2.47e+04</td>\n",
              "</tr>\n",
              "<tr>\n",
              "  <th>genderRecoded</th>            <td>  752.4278</td> <td>  865.808</td> <td>    0.869</td> <td> 0.385</td> <td> -947.089</td> <td> 2451.945</td>\n",
              "</tr>\n",
              "<tr>\n",
              "  <th>studiesRecoded</th>           <td>  216.9936</td> <td>  209.315</td> <td>    1.037</td> <td> 0.300</td> <td> -193.876</td> <td>  627.863</td>\n",
              "</tr>\n",
              "<tr>\n",
              "  <th>experience</th>               <td>  713.9436</td> <td>   45.670</td> <td>   15.632</td> <td> 0.000</td> <td>  624.296</td> <td>  803.591</td>\n",
              "</tr>\n",
              "<tr>\n",
              "  <th>languagesNumber</th>          <td>  -64.5090</td> <td>  223.852</td> <td>   -0.288</td> <td> 0.773</td> <td> -503.913</td> <td>  374.895</td>\n",
              "</tr>\n",
              "<tr>\n",
              "  <th>companySizeBinnedRecoded</th> <td> 1027.1131</td> <td>  220.604</td> <td>    4.656</td> <td> 0.000</td> <td>  594.085</td> <td> 1460.142</td>\n",
              "</tr>\n",
              "<tr>\n",
              "  <th>jobLocationRecoded</th>       <td>-7664.1769</td> <td>  714.001</td> <td>  -10.734</td> <td> 0.000</td> <td>-9065.707</td> <td>-6262.646</td>\n",
              "</tr>\n",
              "</table>\n",
              "<table class=\"simpletable\">\n",
              "<tr>\n",
              "  <th>Omnibus:</th>       <td>25.343</td> <th>  Durbin-Watson:     </th> <td>   2.045</td>\n",
              "</tr>\n",
              "<tr>\n",
              "  <th>Prob(Omnibus):</th> <td> 0.000</td> <th>  Jarque-Bera (JB):  </th> <td>  60.067</td>\n",
              "</tr>\n",
              "<tr>\n",
              "  <th>Skew:</th>          <td>-0.014</td> <th>  Prob(JB):          </th> <td>9.05e-14</td>\n",
              "</tr>\n",
              "<tr>\n",
              "  <th>Kurtosis:</th>      <td> 4.335</td> <th>  Cond. No.          </th> <td>    64.4</td>\n",
              "</tr>\n",
              "</table><br/><br/>Notes:<br/>[1] Standard Errors assume that the covariance matrix of the errors is correctly specified."
            ],
            "text/latex": "\\begin{center}\n\\begin{tabular}{lclc}\n\\toprule\n\\textbf{Dep. Variable:}           &      salary      & \\textbf{  R-squared:         } &     0.322   \\\\\n\\textbf{Model:}                   &       OLS        & \\textbf{  Adj. R-squared:    } &     0.317   \\\\\n\\textbf{Method:}                  &  Least Squares   & \\textbf{  F-statistic:       } &     63.55   \\\\\n\\textbf{Date:}                    & Mon, 27 Nov 2023 & \\textbf{  Prob (F-statistic):} &  1.54e-64   \\\\\n\\textbf{Time:}                    &     18:24:57     & \\textbf{  Log-Likelihood:    } &   -8095.0   \\\\\n\\textbf{No. Observations:}        &         809      & \\textbf{  AIC:               } & 1.620e+04   \\\\\n\\textbf{Df Residuals:}            &         802      & \\textbf{  BIC:               } & 1.624e+04   \\\\\n\\textbf{Df Model:}                &           6      & \\textbf{                     } &             \\\\\n\\textbf{Covariance Type:}         &    nonrobust     & \\textbf{                     } &             \\\\\n\\bottomrule\n\\end{tabular}\n\\begin{tabular}{lcccccc}\n                                  & \\textbf{coef} & \\textbf{std err} & \\textbf{t} & \\textbf{P$> |$t$|$} & \\textbf{[0.025} & \\textbf{0.975]}  \\\\\n\\midrule\n\\textbf{intercept}                &    2.171e+04  &     1533.956     &    14.154  &         0.000        &     1.87e+04    &     2.47e+04     \\\\\n\\textbf{genderRecoded}            &     752.4278  &      865.808     &     0.869  &         0.385        &     -947.089    &     2451.945     \\\\\n\\textbf{studiesRecoded}           &     216.9936  &      209.315     &     1.037  &         0.300        &     -193.876    &      627.863     \\\\\n\\textbf{experience}               &     713.9436  &       45.670     &    15.632  &         0.000        &      624.296    &      803.591     \\\\\n\\textbf{languagesNumber}          &     -64.5090  &      223.852     &    -0.288  &         0.773        &     -503.913    &      374.895     \\\\\n\\textbf{companySizeBinnedRecoded} &    1027.1131  &      220.604     &     4.656  &         0.000        &      594.085    &     1460.142     \\\\\n\\textbf{jobLocationRecoded}       &   -7664.1769  &      714.001     &   -10.734  &         0.000        &    -9065.707    &    -6262.646     \\\\\n\\bottomrule\n\\end{tabular}\n\\begin{tabular}{lclc}\n\\textbf{Omnibus:}       & 25.343 & \\textbf{  Durbin-Watson:     } &    2.045  \\\\\n\\textbf{Prob(Omnibus):} &  0.000 & \\textbf{  Jarque-Bera (JB):  } &   60.067  \\\\\n\\textbf{Skew:}          & -0.014 & \\textbf{  Prob(JB):          } & 9.05e-14  \\\\\n\\textbf{Kurtosis:}      &  4.335 & \\textbf{  Cond. No.          } &     64.4  \\\\\n\\bottomrule\n\\end{tabular}\n%\\caption{OLS Regression Results}\n\\end{center}\n\nNotes: \\newline\n [1] Standard Errors assume that the covariance matrix of the errors is correctly specified."
          },
          "metadata": {},
          "execution_count": 38
        }
      ]
    },
    {
      "cell_type": "code",
      "source": [
        "# Plot residuals\n",
        "sns.scatterplot(\n",
        "    x=model.get_prediction().summary_frame()['mean'],\n",
        "    y=model.resid\n",
        "    )\n",
        "plt.axhline(y=0)\n",
        "plt.xlabel(\"Fitted value\")\n",
        "plt.ylabel(\"Residuals\")\n",
        "plt.show()"
      ],
      "metadata": {
        "colab": {
          "base_uri": "https://localhost:8080/",
          "height": 449
        },
        "id": "iKzbT4dKkoLV",
        "outputId": "be330174-1e2b-4c1d-ab4e-71ab5c00eac1"
      },
      "execution_count": 39,
      "outputs": [
        {
          "output_type": "display_data",
          "data": {
            "text/plain": [
              "<Figure size 640x480 with 1 Axes>"
            ],
            "image/png": "[encoded data removed]"
          },
          "metadata": {}
        }
      ]
    },
    {
      "cell_type": "markdown",
      "source": [
        "## <font color=\"#EB984E\">General remark</font>\n",
        "\n",
        "With the six included features, the model explains only 32% of the observed variability associated with the salaries. It's not great, but represents a decent starting point.\n",
        "\n",
        "\n",
        "\n",
        "\n"
      ],
      "metadata": {
        "id": "WASI4aYxF0Ch"
      }
    },
    {
      "cell_type": "markdown",
      "source": [
        "# Results"
      ],
      "metadata": {
        "id": "E-qtmh1rGdcB"
      }
    },
    {
      "cell_type": "code",
      "source": [
        "modelParams = model.conf_int()\n",
        "modelParams['mean'] = model.params\n",
        "modelParams['pvals'] = model.pvalues\n",
        "modelParams.columns = ['CI_low', 'CI_upper', 'mean', 'pvals']\n",
        "modelParams['Significant'] = [True if x <= 0.05 else False for x in modelParams['pvals']]"
      ],
      "metadata": {
        "id": "YSFlc52JCuNW"
      },
      "execution_count": 52,
      "outputs": []
    },
    {
      "cell_type": "code",
      "source": [
        "modelParams"
      ],
      "metadata": {
        "id": "RD5NC_s5D7FW",
        "outputId": "e4546394-da97-4cb7-ac45-c590465f8979",
        "colab": {
          "base_uri": "https://localhost:8080/",
          "height": 269
        }
      },
      "execution_count": 53,
      "outputs": [
        {
          "output_type": "execute_result",
          "data": {
            "text/plain": [
              "                                CI_low      CI_upper          mean  \\\n",
              "intercept                 18701.255250  24723.340168  21712.297709   \n",
              "genderRecoded              -947.089282   2451.944869    752.427793   \n",
              "studiesRecoded             -193.875564    627.862730    216.993583   \n",
              "experience                  624.295744    803.591380    713.943562   \n",
              "languagesNumber            -503.913056    374.895003    -64.509026   \n",
              "companySizeBinnedRecoded    594.084581   1460.141653   1027.113117   \n",
              "jobLocationRecoded        -9065.707315  -6262.646460  -7664.176888   \n",
              "\n",
              "                                 pvals  Significant  \n",
              "intercept                 9.175417e-41         True  \n",
              "genderRecoded             3.850814e-01        False  \n",
              "studiesRecoded            3.001945e-01        False  \n",
              "experience                2.774043e-48         True  \n",
              "languagesNumber           7.732851e-01        False  \n",
              "companySizeBinnedRecoded  3.773641e-06         True  \n",
              "jobLocationRecoded        3.297919e-25         True  "
            ],
            "text/html": [
              "\n",
              "  <div id=\"df-b91fef5c-bf8f-4caa-8e80-c457f53a837d\" class=\"colab-df-container\">\n",
              "    <div>\n",
              "<style scoped>\n",
              "    .dataframe tbody tr th:only-of-type {\n",
              "        vertical-align: middle;\n",
              "    }\n",
              "\n",
              "    .dataframe tbody tr th {\n",
              "        vertical-align: top;\n",
              "    }\n",
              "\n",
              "    .dataframe thead th {\n",
              "        text-align: right;\n",
              "    }\n",
              "</style>\n",
              "<table border=\"1\" class=\"dataframe\">\n",
              "  <thead>\n",
              "    <tr style=\"text-align: right;\">\n",
              "      <th></th>\n",
              "      <th>CI_low</th>\n",
              "      <th>CI_upper</th>\n",
              "      <th>mean</th>\n",
              "      <th>pvals</th>\n",
              "      <th>Significant</th>\n",
              "    </tr>\n",
              "  </thead>\n",
              "  <tbody>\n",
              "    <tr>\n",
              "      <th>intercept</th>\n",
              "      <td>18701.255250</td>\n",
              "      <td>24723.340168</td>\n",
              "      <td>21712.297709</td>\n",
              "      <td>9.175417e-41</td>\n",
              "      <td>True</td>\n",
              "    </tr>\n",
              "    <tr>\n",
              "      <th>genderRecoded</th>\n",
              "      <td>-947.089282</td>\n",
              "      <td>2451.944869</td>\n",
              "      <td>752.427793</td>\n",
              "      <td>3.850814e-01</td>\n",
              "      <td>False</td>\n",
              "    </tr>\n",
              "    <tr>\n",
              "      <th>studiesRecoded</th>\n",
              "      <td>-193.875564</td>\n",
              "      <td>627.862730</td>\n",
              "      <td>216.993583</td>\n",
              "      <td>3.001945e-01</td>\n",
              "      <td>False</td>\n",
              "    </tr>\n",
              "    <tr>\n",
              "      <th>experience</th>\n",
              "      <td>624.295744</td>\n",
              "      <td>803.591380</td>\n",
              "      <td>713.943562</td>\n",
              "      <td>2.774043e-48</td>\n",
              "      <td>True</td>\n",
              "    </tr>\n",
              "    <tr>\n",
              "      <th>languagesNumber</th>\n",
              "      <td>-503.913056</td>\n",
              "      <td>374.895003</td>\n",
              "      <td>-64.509026</td>\n",
              "      <td>7.732851e-01</td>\n",
              "      <td>False</td>\n",
              "    </tr>\n",
              "    <tr>\n",
              "      <th>companySizeBinnedRecoded</th>\n",
              "      <td>594.084581</td>\n",
              "      <td>1460.141653</td>\n",
              "      <td>1027.113117</td>\n",
              "      <td>3.773641e-06</td>\n",
              "      <td>True</td>\n",
              "    </tr>\n",
              "    <tr>\n",
              "      <th>jobLocationRecoded</th>\n",
              "      <td>-9065.707315</td>\n",
              "      <td>-6262.646460</td>\n",
              "      <td>-7664.176888</td>\n",
              "      <td>3.297919e-25</td>\n",
              "      <td>True</td>\n",
              "    </tr>\n",
              "  </tbody>\n",
              "</table>\n",
              "</div>\n",
              "    <div class=\"colab-df-buttons\">\n",
              "\n",
              "  <div class=\"colab-df-container\">\n",
              "    <button class=\"colab-df-convert\" onclick=\"convertToInteractive('df-b91fef5c-bf8f-4caa-8e80-c457f53a837d')\"\n",
              "            title=\"Convert this dataframe to an interactive table.\"\n",
              "            style=\"display:none;\">\n",
              "\n",
              "  <svg xmlns=\"http://www.w3.org/2000/svg\" height=\"24px\" viewBox=\"0 -960 960 960\">\n",
              "    <path d=\"M120-120v-720h720v720H120Zm60-500h600v-160H180v160Zm220 220h160v-160H400v160Zm0 220h160v-160H400v160ZM180-400h160v-160H180v160Zm440 0h160v-160H620v160ZM180-180h160v-160H180v160Zm440 0h160v-160H620v160Z\"/>\n",
              "  </svg>\n",
              "    </button>\n",
              "\n",
              "  <style>\n",
              "    .colab-df-container {\n",
              "      display:flex;\n",
              "      gap: 12px;\n",
              "    }\n",
              "\n",
              "    .colab-df-convert {\n",
              "      background-color: #E8F0FE;\n",
              "      border: none;\n",
              "      border-radius: 50%;\n",
              "      cursor: pointer;\n",
              "      display: none;\n",
              "      fill: #1967D2;\n",
              "      height: 32px;\n",
              "      padding: 0 0 0 0;\n",
              "      width: 32px;\n",
              "    }\n",
              "\n",
              "    .colab-df-convert:hover {\n",
              "      background-color: #E2EBFA;\n",
              "      box-shadow: 0px 1px 2px rgba(60, 64, 67, 0.3), 0px 1px 3px 1px rgba(60, 64, 67, 0.15);\n",
              "      fill: #174EA6;\n",
              "    }\n",
              "\n",
              "    .colab-df-buttons div {\n",
              "      margin-bottom: 4px;\n",
              "    }\n",
              "\n",
              "    [theme=dark] .colab-df-convert {\n",
              "      background-color: #3B4455;\n",
              "      fill: #D2E3FC;\n",
              "    }\n",
              "\n",
              "    [theme=dark] .colab-df-convert:hover {\n",
              "      background-color: #434B5C;\n",
              "      box-shadow: 0px 1px 3px 1px rgba(0, 0, 0, 0.15);\n",
              "      filter: drop-shadow(0px 1px 2px rgba(0, 0, 0, 0.3));\n",
              "      fill: #FFFFFF;\n",
              "    }\n",
              "  </style>\n",
              "\n",
              "    <script>\n",
              "      const buttonEl =\n",
              "        document.querySelector('#df-b91fef5c-bf8f-4caa-8e80-c457f53a837d button.colab-df-convert');\n",
              "      buttonEl.style.display =\n",
              "        google.colab.kernel.accessAllowed ? 'block' : 'none';\n",
              "\n",
              "      async function convertToInteractive(key) {\n",
              "        const element = document.querySelector('#df-b91fef5c-bf8f-4caa-8e80-c457f53a837d');\n",
              "        const dataTable =\n",
              "          await google.colab.kernel.invokeFunction('convertToInteractive',\n",
              "                                                    [key], {});\n",
              "        if (!dataTable) return;\n",
              "\n",
              "        const docLinkHtml = 'Like what you see? Visit the ' +\n",
              "          '<a target=\"_blank\" href=https://colab.research.google.com/notebooks/data_table.ipynb>data table notebook</a>'\n",
              "          + ' to learn more about interactive tables.';\n",
              "        element.innerHTML = '';\n",
              "        dataTable['output_type'] = 'display_data';\n",
              "        await google.colab.output.renderOutput(dataTable, element);\n",
              "        const docLink = document.createElement('div');\n",
              "        docLink.innerHTML = docLinkHtml;\n",
              "        element.appendChild(docLink);\n",
              "      }\n",
              "    </script>\n",
              "  </div>\n",
              "\n",
              "\n",
              "<div id=\"df-0579da99-d522-4675-b538-1cc3942fd8d3\">\n",
              "  <button class=\"colab-df-quickchart\" onclick=\"quickchart('df-0579da99-d522-4675-b538-1cc3942fd8d3')\"\n",
              "            title=\"Suggest charts\"\n",
              "            style=\"display:none;\">\n",
              "\n",
              "<svg xmlns=\"http://www.w3.org/2000/svg\" height=\"24px\"viewBox=\"0 0 24 24\"\n",
              "     width=\"24px\">\n",
              "    <g>\n",
              "        <path d=\"M19 3H5c-1.1 0-2 .9-2 2v14c0 1.1.9 2 2 2h14c1.1 0 2-.9 2-2V5c0-1.1-.9-2-2-2zM9 17H7v-7h2v7zm4 0h-2V7h2v10zm4 0h-2v-4h2v4z\"/>\n",
              "    </g>\n",
              "</svg>\n",
              "  </button>\n",
              "\n",
              "<style>\n",
              "  .colab-df-quickchart {\n",
              "      --bg-color: #E8F0FE;\n",
              "      --fill-color: #1967D2;\n",
              "      --hover-bg-color: #E2EBFA;\n",
              "      --hover-fill-color: #174EA6;\n",
              "      --disabled-fill-color: #AAA;\n",
              "      --disabled-bg-color: #DDD;\n",
              "  }\n",
              "\n",
              "  [theme=dark] .colab-df-quickchart {\n",
              "      --bg-color: #3B4455;\n",
              "      --fill-color: #D2E3FC;\n",
              "      --hover-bg-color: #434B5C;\n",
              "      --hover-fill-color: #FFFFFF;\n",
              "      --disabled-bg-color: #3B4455;\n",
              "      --disabled-fill-color: #666;\n",
              "  }\n",
              "\n",
              "  .colab-df-quickchart {\n",
              "    background-color: var(--bg-color);\n",
              "    border: none;\n",
              "    border-radius: 50%;\n",
              "    cursor: pointer;\n",
              "    display: none;\n",
              "    fill: var(--fill-color);\n",
              "    height: 32px;\n",
              "    padding: 0;\n",
              "    width: 32px;\n",
              "  }\n",
              "\n",
              "  .colab-df-quickchart:hover {\n",
              "    background-color: var(--hover-bg-color);\n",
              "    box-shadow: 0 1px 2px rgba(60, 64, 67, 0.3), 0 1px 3px 1px rgba(60, 64, 67, 0.15);\n",
              "    fill: var(--button-hover-fill-color);\n",
              "  }\n",
              "\n",
              "  .colab-df-quickchart-complete:disabled,\n",
              "  .colab-df-quickchart-complete:disabled:hover {\n",
              "    background-color: var(--disabled-bg-color);\n",
              "    fill: var(--disabled-fill-color);\n",
              "    box-shadow: none;\n",
              "  }\n",
              "\n",
              "  .colab-df-spinner {\n",
              "    border: 2px solid var(--fill-color);\n",
              "    border-color: transparent;\n",
              "    border-bottom-color: var(--fill-color);\n",
              "    animation:\n",
              "      spin 1s steps(1) infinite;\n",
              "  }\n",
              "\n",
              "  @keyframes spin {\n",
              "    0% {\n",
              "      border-color: transparent;\n",
              "      border-bottom-color: var(--fill-color);\n",
              "      border-left-color: var(--fill-color);\n",
              "    }\n",
              "    20% {\n",
              "      border-color: transparent;\n",
              "      border-left-color: var(--fill-color);\n",
              "      border-top-color: var(--fill-color);\n",
              "    }\n",
              "    30% {\n",
              "      border-color: transparent;\n",
              "      border-left-color: var(--fill-color);\n",
              "      border-top-color: var(--fill-color);\n",
              "      border-right-color: var(--fill-color);\n",
              "    }\n",
              "    40% {\n",
              "      border-color: transparent;\n",
              "      border-right-color: var(--fill-color);\n",
              "      border-top-color: var(--fill-color);\n",
              "    }\n",
              "    60% {\n",
              "      border-color: transparent;\n",
              "      border-right-color: var(--fill-color);\n",
              "    }\n",
              "    80% {\n",
              "      border-color: transparent;\n",
              "      border-right-color: var(--fill-color);\n",
              "      border-bottom-color: var(--fill-color);\n",
              "    }\n",
              "    90% {\n",
              "      border-color: transparent;\n",
              "      border-bottom-color: var(--fill-color);\n",
              "    }\n",
              "  }\n",
              "</style>\n",
              "\n",
              "  <script>\n",
              "    async function quickchart(key) {\n",
              "      const quickchartButtonEl =\n",
              "        document.querySelector('#' + key + ' button');\n",
              "      quickchartButtonEl.disabled = true;  // To prevent multiple clicks.\n",
              "      quickchartButtonEl.classList.add('colab-df-spinner');\n",
              "      try {\n",
              "        const charts = await google.colab.kernel.invokeFunction(\n",
              "            'suggestCharts', [key], {});\n",
              "      } catch (error) {\n",
              "        console.error('Error during call to suggestCharts:', error);\n",
              "      }\n",
              "      quickchartButtonEl.classList.remove('colab-df-spinner');\n",
              "      quickchartButtonEl.classList.add('colab-df-quickchart-complete');\n",
              "    }\n",
              "    (() => {\n",
              "      let quickchartButtonEl =\n",
              "        document.querySelector('#df-0579da99-d522-4675-b538-1cc3942fd8d3 button');\n",
              "      quickchartButtonEl.style.display =\n",
              "        google.colab.kernel.accessAllowed ? 'block' : 'none';\n",
              "    })();\n",
              "  </script>\n",
              "</div>\n",
              "    </div>\n",
              "  </div>\n"
            ]
          },
          "metadata": {},
          "execution_count": 53
        }
      ]
    },
    {
      "cell_type": "markdown",
      "source": [
        "## <font color=\"#EB984E\">General remark</font>\n",
        "\n",
        "The coefficients for the features **gender**, **studies** and **number of languages** are not statistically significant. This means that these factors don't appear to have a significant effect on the salary. However, the non-significance could be due to small sample size.\n",
        "\n",
        "\n"
      ],
      "metadata": {
        "id": "nfETa7__HAw_"
      }
    },
    {
      "cell_type": "markdown",
      "source": [
        "# Predictions"
      ],
      "metadata": {
        "id": "5CQD4P2aoVAW"
      }
    },
    {
      "cell_type": "code",
      "source": [
        "def predictSalary(*args):\n",
        "  \"\"\"args = intercept, gender, studies, experience, languagesN, companySize, jobLocation\"\"\"\n",
        "  mean = np.dot(modelParams['mean'], np.array(args))\n",
        "  CIlow = np.dot(modelParams['CI_low'], np.array(args))\n",
        "  CIupper = np.dot(modelParams['CI_upper'], np.array(args))\n",
        "  return (mean, CIlow, CIupper)"
      ],
      "metadata": {
        "id": "65IClXiQP7x8"
      },
      "execution_count": 64,
      "outputs": []
    },
    {
      "cell_type": "code",
      "source": [
        "intercept = 1\n",
        "typeStudies = 4 # Bachelor\n",
        "sizeCompany = 2 # medium-sized\n",
        "fig, axes = plt.subplots(nrows=2, ncols=2, figsize=(9,7))\n",
        "for ax, gender, location, title in zip(\n",
        "    axes.flatten().tolist(),\n",
        "     [0, 1, 0, 1],\n",
        "     [1, 1, 0, 0],\n",
        "     ['Women-Greece', 'Men-Greece', 'Women-Abroad', 'Men-Abroad']):\n",
        "  for years in range(1, 11):\n",
        "    xVal = [years-0.25, years, years+0.25]\n",
        "    colors = ['#E6B0AA', '#D98880', '#A93226']\n",
        "    for langsN in range(1, 4):\n",
        "      idx = langsN - 1\n",
        "      mean, low, upper = predictSalary(intercept, gender, typeStudies, years, langsN, sizeCompany, location)\n",
        "      ax.plot(xVal[idx] , mean, 'o', color=colors[idx])\n",
        "      ax.vlines(x=xVal[idx], ymin=low, ymax=upper, color='gray')\n",
        "      ax.set_xticks(np.arange(1, 11))\n",
        "      ax.set_xlabel(\"Experience (yeears)\")\n",
        "      ax.set_ylabel(\"Annual income\")\n",
        "      ax.set_title(title)\n",
        "plt.tight_layout()\n",
        ""
      ],
      "metadata": {
        "id": "wppp-6WuTuFu",
        "outputId": "a8222189-6eda-4bd8-ab0b-b14643dde6a4",
        "colab": {
          "base_uri": "https://localhost:8080/",
          "height": 707
        }
      },
      "execution_count": 113,
      "outputs": [
        {
          "output_type": "display_data",
          "data": {
            "text/plain": [
              "<Figure size 900x700 with 4 Axes>"
            ],
            "image/png": "[encoded data removed]"
          },
          "metadata": {}
        }
      ]
    },
    {
      "cell_type": "markdown",
      "source": [
        "## <font color=\"#EB984E\">General remark</font>\n",
        "\n",
        "In the figure above the predicted annual income is shown for a programmer that has obtained his Bachelor and wants to work in a medium-sized company (=100 up to 500 people). The annual salary is predicted based on the number of years of experience and number of languages (1=light-red, 2=red, 3=dark-red). Circles represent the mean and the vertical lines the possible range of the annual salary for a given number of years of experience and languages.\n",
        "\n",
        "The unexpected part is that based on the data, for every additional language a programmer knows, his annual income is reduced by 64€ on average. Additionally, for this feature the annual gain on the income can range from -503€ (reduction) up to +374€ (increase). This great variability can be attributed to the differences in the negotiating capability of the programmers that participated in the survey and the type of language each programmer additionally knew. The latter has not been included in this model and adds a lot to the uncertainty of the predictions.\n",
        "\n"
      ],
      "metadata": {
        "id": "RZo5E_HeiCGw"
      }
    }
  ]
}