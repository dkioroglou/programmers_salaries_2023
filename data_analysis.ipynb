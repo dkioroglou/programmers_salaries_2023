{
  "nbformat": 4,
  "nbformat_minor": 0,
  "metadata": {
    "colab": {
      "provenance": [],
      "include_colab_link": true
    },
    "kernelspec": {
      "name": "python3",
      "display_name": "Python 3"
    },
    "language_info": {
      "name": "python"
    }
  },
  "cells": [
    {
      "cell_type": "markdown",
      "metadata": {
        "id": "view-in-github",
        "colab_type": "text"
      },
      "source": [
        "<a href=\"https://colab.research.google.com/github/dkioroglou/programmers_salaries_2023/blob/main/data_analysis.ipynb\" target=\"_parent\"><img src=\"https://colab.research.google.com/assets/colab-badge.svg\" alt=\"Open In Colab\"/></a>"
      ]
    },
    {
      "cell_type": "code",
      "execution_count": 1,
      "metadata": {
        "id": "_jOXNVkKQmem"
      },
      "outputs": [],
      "source": [
        "import pandas as pd\n",
        "import numpy as np\n",
        "import statsmodels.api as sm\n",
        "import matplotlib.pyplot as plt\n",
        "import seaborn as sns"
      ]
    },
    {
      "cell_type": "code",
      "source": [
        "df = pd.read_csv(\"https://raw.githubusercontent.com/dkioroglou/programmers_salaries_2023/main/data/salaries_2023.csv\")"
      ],
      "metadata": {
        "id": "Qx7xXAazQyJy"
      },
      "execution_count": 10,
      "outputs": []
    },
    {
      "cell_type": "code",
      "source": [
        "df = df[[\n",
        "      '[Fixed] Ποιος είναι ο ΕΤΗΣΙΟΣ ΚΑΘΑΡΟΣ μισθός σου σε €;',\n",
        "      'Με ποιες γλώσσες προγραμματισμού δουλεύεις επαγγελματικά αυτή την περίοδο;',\n",
        "      'Πόσα χρόνια δουλεύεις επαγγελματικά ως προγραμματιστής;',\n",
        "      'Φύλλο;',\n",
        "      '[GROUP] Σε ποια πόλη δουλεύεις, Greece ή Abroad',\n",
        "      'Τι μέγεθος είναι η εταιρεία που δουλεύεις;'\n",
        "      ]]\n",
        "\n",
        "df.columns = [\n",
        "      'salary',\n",
        "      'languages',\n",
        "      'experience',\n",
        "      'gender',\n",
        "      'jobLocation',\n",
        "      'companySize'\n",
        "      ]"
      ],
      "metadata": {
        "id": "QY8-Z2WURPNL"
      },
      "execution_count": 11,
      "outputs": []
    },
    {
      "cell_type": "markdown",
      "source": [
        "# Missing values distribution"
      ],
      "metadata": {
        "id": "ZN_YF7aKaz5q"
      }
    },
    {
      "cell_type": "code",
      "source": [
        "df.isna().sum()"
      ],
      "metadata": {
        "colab": {
          "base_uri": "https://localhost:8080/"
        },
        "id": "LX-ecHTEa4oX",
        "outputId": "3d91772e-189b-4624-89e8-6f94647642b6"
      },
      "execution_count": 12,
      "outputs": [
        {
          "output_type": "execute_result",
          "data": {
            "text/plain": [
              "salary         0\n",
              "languages      0\n",
              "experience     0\n",
              "gender         2\n",
              "jobLocation    0\n",
              "companySize    0\n",
              "dtype: int64"
            ]
          },
          "metadata": {},
          "execution_count": 12
        }
      ]
    },
    {
      "cell_type": "code",
      "source": [
        "df['gender'].value_counts()"
      ],
      "metadata": {
        "colab": {
          "base_uri": "https://localhost:8080/"
        },
        "id": "8W47jQwkaetv",
        "outputId": "2861058c-a90f-4770-fafe-72b0fc86fd17"
      },
      "execution_count": 13,
      "outputs": [
        {
          "output_type": "execute_result",
          "data": {
            "text/plain": [
              "Άντρας               949\n",
              "Γυναίκα               53\n",
              "Προτιμώ να μην πω      1\n",
              "Nuclear Sub            1\n",
              "Name: gender, dtype: int64"
            ]
          },
          "metadata": {},
          "execution_count": 13
        }
      ]
    },
    {
      "cell_type": "code",
      "source": [
        "mask = df.isna()['gender']\n",
        "df[mask]"
      ],
      "metadata": {
        "colab": {
          "base_uri": "https://localhost:8080/",
          "height": 112
        },
        "id": "YGd-aBNNZ6zP",
        "outputId": "2773988e-6ed6-4897-ca07-16de37bb8518"
      },
      "execution_count": 14,
      "outputs": [
        {
          "output_type": "execute_result",
          "data": {
            "text/plain": [
              "      salary         languages  experience gender jobLocation companySize\n",
              "64   19600.0  JavaScript, Ruby           7    NaN      Ελλάδα   201 - 500\n",
              "541  10100.0  Java, JavaScript           1    NaN      Ελλάδα   101 - 200"
            ],
            "text/html": [
              "\n",
              "  <div id=\"df-3525fd8e-41b5-455e-8287-f683aafe1943\" class=\"colab-df-container\">\n",
              "    <div>\n",
              "<style scoped>\n",
              "    .dataframe tbody tr th:only-of-type {\n",
              "        vertical-align: middle;\n",
              "    }\n",
              "\n",
              "    .dataframe tbody tr th {\n",
              "        vertical-align: top;\n",
              "    }\n",
              "\n",
              "    .dataframe thead th {\n",
              "        text-align: right;\n",
              "    }\n",
              "</style>\n",
              "<table border=\"1\" class=\"dataframe\">\n",
              "  <thead>\n",
              "    <tr style=\"text-align: right;\">\n",
              "      <th></th>\n",
              "      <th>salary</th>\n",
              "      <th>languages</th>\n",
              "      <th>experience</th>\n",
              "      <th>gender</th>\n",
              "      <th>jobLocation</th>\n",
              "      <th>companySize</th>\n",
              "    </tr>\n",
              "  </thead>\n",
              "  <tbody>\n",
              "    <tr>\n",
              "      <th>64</th>\n",
              "      <td>19600.0</td>\n",
              "      <td>JavaScript, Ruby</td>\n",
              "      <td>7</td>\n",
              "      <td>NaN</td>\n",
              "      <td>Ελλάδα</td>\n",
              "      <td>201 - 500</td>\n",
              "    </tr>\n",
              "    <tr>\n",
              "      <th>541</th>\n",
              "      <td>10100.0</td>\n",
              "      <td>Java, JavaScript</td>\n",
              "      <td>1</td>\n",
              "      <td>NaN</td>\n",
              "      <td>Ελλάδα</td>\n",
              "      <td>101 - 200</td>\n",
              "    </tr>\n",
              "  </tbody>\n",
              "</table>\n",
              "</div>\n",
              "    <div class=\"colab-df-buttons\">\n",
              "\n",
              "  <div class=\"colab-df-container\">\n",
              "    <button class=\"colab-df-convert\" onclick=\"convertToInteractive('df-3525fd8e-41b5-455e-8287-f683aafe1943')\"\n",
              "            title=\"Convert this dataframe to an interactive table.\"\n",
              "            style=\"display:none;\">\n",
              "\n",
              "  <svg xmlns=\"http://www.w3.org/2000/svg\" height=\"24px\" viewBox=\"0 -960 960 960\">\n",
              "    <path d=\"M120-120v-720h720v720H120Zm60-500h600v-160H180v160Zm220 220h160v-160H400v160Zm0 220h160v-160H400v160ZM180-400h160v-160H180v160Zm440 0h160v-160H620v160ZM180-180h160v-160H180v160Zm440 0h160v-160H620v160Z\"/>\n",
              "  </svg>\n",
              "    </button>\n",
              "\n",
              "  <style>\n",
              "    .colab-df-container {\n",
              "      display:flex;\n",
              "      gap: 12px;\n",
              "    }\n",
              "\n",
              "    .colab-df-convert {\n",
              "      background-color: #E8F0FE;\n",
              "      border: none;\n",
              "      border-radius: 50%;\n",
              "      cursor: pointer;\n",
              "      display: none;\n",
              "      fill: #1967D2;\n",
              "      height: 32px;\n",
              "      padding: 0 0 0 0;\n",
              "      width: 32px;\n",
              "    }\n",
              "\n",
              "    .colab-df-convert:hover {\n",
              "      background-color: #E2EBFA;\n",
              "      box-shadow: 0px 1px 2px rgba(60, 64, 67, 0.3), 0px 1px 3px 1px rgba(60, 64, 67, 0.15);\n",
              "      fill: #174EA6;\n",
              "    }\n",
              "\n",
              "    .colab-df-buttons div {\n",
              "      margin-bottom: 4px;\n",
              "    }\n",
              "\n",
              "    [theme=dark] .colab-df-convert {\n",
              "      background-color: #3B4455;\n",
              "      fill: #D2E3FC;\n",
              "    }\n",
              "\n",
              "    [theme=dark] .colab-df-convert:hover {\n",
              "      background-color: #434B5C;\n",
              "      box-shadow: 0px 1px 3px 1px rgba(0, 0, 0, 0.15);\n",
              "      filter: drop-shadow(0px 1px 2px rgba(0, 0, 0, 0.3));\n",
              "      fill: #FFFFFF;\n",
              "    }\n",
              "  </style>\n",
              "\n",
              "    <script>\n",
              "      const buttonEl =\n",
              "        document.querySelector('#df-3525fd8e-41b5-455e-8287-f683aafe1943 button.colab-df-convert');\n",
              "      buttonEl.style.display =\n",
              "        google.colab.kernel.accessAllowed ? 'block' : 'none';\n",
              "\n",
              "      async function convertToInteractive(key) {\n",
              "        const element = document.querySelector('#df-3525fd8e-41b5-455e-8287-f683aafe1943');\n",
              "        const dataTable =\n",
              "          await google.colab.kernel.invokeFunction('convertToInteractive',\n",
              "                                                    [key], {});\n",
              "        if (!dataTable) return;\n",
              "\n",
              "        const docLinkHtml = 'Like what you see? Visit the ' +\n",
              "          '<a target=\"_blank\" href=https://colab.research.google.com/notebooks/data_table.ipynb>data table notebook</a>'\n",
              "          + ' to learn more about interactive tables.';\n",
              "        element.innerHTML = '';\n",
              "        dataTable['output_type'] = 'display_data';\n",
              "        await google.colab.output.renderOutput(dataTable, element);\n",
              "        const docLink = document.createElement('div');\n",
              "        docLink.innerHTML = docLinkHtml;\n",
              "        element.appendChild(docLink);\n",
              "      }\n",
              "    </script>\n",
              "  </div>\n",
              "\n",
              "\n",
              "<div id=\"df-626e6341-7607-46f3-9cb9-0c57bcc033f9\">\n",
              "  <button class=\"colab-df-quickchart\" onclick=\"quickchart('df-626e6341-7607-46f3-9cb9-0c57bcc033f9')\"\n",
              "            title=\"Suggest charts\"\n",
              "            style=\"display:none;\">\n",
              "\n",
              "<svg xmlns=\"http://www.w3.org/2000/svg\" height=\"24px\"viewBox=\"0 0 24 24\"\n",
              "     width=\"24px\">\n",
              "    <g>\n",
              "        <path d=\"M19 3H5c-1.1 0-2 .9-2 2v14c0 1.1.9 2 2 2h14c1.1 0 2-.9 2-2V5c0-1.1-.9-2-2-2zM9 17H7v-7h2v7zm4 0h-2V7h2v10zm4 0h-2v-4h2v4z\"/>\n",
              "    </g>\n",
              "</svg>\n",
              "  </button>\n",
              "\n",
              "<style>\n",
              "  .colab-df-quickchart {\n",
              "      --bg-color: #E8F0FE;\n",
              "      --fill-color: #1967D2;\n",
              "      --hover-bg-color: #E2EBFA;\n",
              "      --hover-fill-color: #174EA6;\n",
              "      --disabled-fill-color: #AAA;\n",
              "      --disabled-bg-color: #DDD;\n",
              "  }\n",
              "\n",
              "  [theme=dark] .colab-df-quickchart {\n",
              "      --bg-color: #3B4455;\n",
              "      --fill-color: #D2E3FC;\n",
              "      --hover-bg-color: #434B5C;\n",
              "      --hover-fill-color: #FFFFFF;\n",
              "      --disabled-bg-color: #3B4455;\n",
              "      --disabled-fill-color: #666;\n",
              "  }\n",
              "\n",
              "  .colab-df-quickchart {\n",
              "    background-color: var(--bg-color);\n",
              "    border: none;\n",
              "    border-radius: 50%;\n",
              "    cursor: pointer;\n",
              "    display: none;\n",
              "    fill: var(--fill-color);\n",
              "    height: 32px;\n",
              "    padding: 0;\n",
              "    width: 32px;\n",
              "  }\n",
              "\n",
              "  .colab-df-quickchart:hover {\n",
              "    background-color: var(--hover-bg-color);\n",
              "    box-shadow: 0 1px 2px rgba(60, 64, 67, 0.3), 0 1px 3px 1px rgba(60, 64, 67, 0.15);\n",
              "    fill: var(--button-hover-fill-color);\n",
              "  }\n",
              "\n",
              "  .colab-df-quickchart-complete:disabled,\n",
              "  .colab-df-quickchart-complete:disabled:hover {\n",
              "    background-color: var(--disabled-bg-color);\n",
              "    fill: var(--disabled-fill-color);\n",
              "    box-shadow: none;\n",
              "  }\n",
              "\n",
              "  .colab-df-spinner {\n",
              "    border: 2px solid var(--fill-color);\n",
              "    border-color: transparent;\n",
              "    border-bottom-color: var(--fill-color);\n",
              "    animation:\n",
              "      spin 1s steps(1) infinite;\n",
              "  }\n",
              "\n",
              "  @keyframes spin {\n",
              "    0% {\n",
              "      border-color: transparent;\n",
              "      border-bottom-color: var(--fill-color);\n",
              "      border-left-color: var(--fill-color);\n",
              "    }\n",
              "    20% {\n",
              "      border-color: transparent;\n",
              "      border-left-color: var(--fill-color);\n",
              "      border-top-color: var(--fill-color);\n",
              "    }\n",
              "    30% {\n",
              "      border-color: transparent;\n",
              "      border-left-color: var(--fill-color);\n",
              "      border-top-color: var(--fill-color);\n",
              "      border-right-color: var(--fill-color);\n",
              "    }\n",
              "    40% {\n",
              "      border-color: transparent;\n",
              "      border-right-color: var(--fill-color);\n",
              "      border-top-color: var(--fill-color);\n",
              "    }\n",
              "    60% {\n",
              "      border-color: transparent;\n",
              "      border-right-color: var(--fill-color);\n",
              "    }\n",
              "    80% {\n",
              "      border-color: transparent;\n",
              "      border-right-color: var(--fill-color);\n",
              "      border-bottom-color: var(--fill-color);\n",
              "    }\n",
              "    90% {\n",
              "      border-color: transparent;\n",
              "      border-bottom-color: var(--fill-color);\n",
              "    }\n",
              "  }\n",
              "</style>\n",
              "\n",
              "  <script>\n",
              "    async function quickchart(key) {\n",
              "      const quickchartButtonEl =\n",
              "        document.querySelector('#' + key + ' button');\n",
              "      quickchartButtonEl.disabled = true;  // To prevent multiple clicks.\n",
              "      quickchartButtonEl.classList.add('colab-df-spinner');\n",
              "      try {\n",
              "        const charts = await google.colab.kernel.invokeFunction(\n",
              "            'suggestCharts', [key], {});\n",
              "      } catch (error) {\n",
              "        console.error('Error during call to suggestCharts:', error);\n",
              "      }\n",
              "      quickchartButtonEl.classList.remove('colab-df-spinner');\n",
              "      quickchartButtonEl.classList.add('colab-df-quickchart-complete');\n",
              "    }\n",
              "    (() => {\n",
              "      let quickchartButtonEl =\n",
              "        document.querySelector('#df-626e6341-7607-46f3-9cb9-0c57bcc033f9 button');\n",
              "      quickchartButtonEl.style.display =\n",
              "        google.colab.kernel.accessAllowed ? 'block' : 'none';\n",
              "    })();\n",
              "  </script>\n",
              "</div>\n",
              "    </div>\n",
              "  </div>\n"
            ]
          },
          "metadata": {},
          "execution_count": 14
        }
      ]
    },
    {
      "cell_type": "code",
      "source": [
        "# Remove entries with missing or unspecified gender\n",
        "df =  df.drop([64, 541, 68, 167])"
      ],
      "metadata": {
        "id": "SIff9_cdc0eT"
      },
      "execution_count": 15,
      "outputs": []
    },
    {
      "cell_type": "markdown",
      "source": [
        "# Distribution of salaries"
      ],
      "metadata": {
        "id": "M1a9hifCrnPw"
      }
    },
    {
      "cell_type": "code",
      "source": [
        "df['salary'].describe()"
      ],
      "metadata": {
        "colab": {
          "base_uri": "https://localhost:8080/"
        },
        "id": "0ykm7dmirq0Q",
        "outputId": "d8cd4e1b-8825-4246-ff98-afb7252e1df6"
      },
      "execution_count": 16,
      "outputs": [
        {
          "output_type": "execute_result",
          "data": {
            "text/plain": [
              "count      1002.000000\n",
              "mean      24117.334262\n",
              "std       16305.507428\n",
              "min          15.008000\n",
              "25%       14820.000000\n",
              "50%       20155.000000\n",
              "75%       27595.000000\n",
              "max      180000.000000\n",
              "Name: salary, dtype: float64"
            ]
          },
          "metadata": {},
          "execution_count": 16
        }
      ]
    },
    {
      "cell_type": "code",
      "source": [
        "sns.histplot(df['salary'])"
      ],
      "metadata": {
        "colab": {
          "base_uri": "https://localhost:8080/",
          "height": 471
        },
        "id": "ZnrBngmTr1Hs",
        "outputId": "a35fd009-c146-45cb-9b42-22488adf0eb6"
      },
      "execution_count": 17,
      "outputs": [
        {
          "output_type": "execute_result",
          "data": {
            "text/plain": [
              "<Axes: xlabel='salary', ylabel='Count'>"
            ]
          },
          "metadata": {},
          "execution_count": 17
        },
        {
          "output_type": "display_data",
          "data": {
            "text/plain": [
              "<Figure size 640x480 with 1 Axes>"
            ],
            "image/png": "[encoded data removed]"
          },
          "metadata": {}
        }
      ]
    },
    {
      "cell_type": "code",
      "source": [
        "# Remove outliers\n",
        "# Select data with salaries between the 10th and 90th percentiles of salaries\n",
        "perc10th =  df['salary'].quantile(0.1)\n",
        "perc90th = df['salary'].quantile(0.9)\n",
        "df = df.query('salary >= @perc10th & salary <= @perc90th')"
      ],
      "metadata": {
        "id": "SDzM09iDsP-2"
      },
      "execution_count": 18,
      "outputs": []
    },
    {
      "cell_type": "code",
      "source": [
        "sns.histplot(df['salary'])"
      ],
      "metadata": {
        "colab": {
          "base_uri": "https://localhost:8080/",
          "height": 467
        },
        "id": "EA67veNCvMxx",
        "outputId": "02a0be0f-580a-4614-a588-6dd37a8255fb"
      },
      "execution_count": 19,
      "outputs": [
        {
          "output_type": "execute_result",
          "data": {
            "text/plain": [
              "<Axes: xlabel='salary', ylabel='Count'>"
            ]
          },
          "metadata": {},
          "execution_count": 19
        },
        {
          "output_type": "display_data",
          "data": {
            "text/plain": [
              "<Figure size 640x480 with 1 Axes>"
            ],
            "image/png": "[encoded data removed]"
          },
          "metadata": {}
        }
      ]
    },
    {
      "cell_type": "markdown",
      "source": [
        "# Sample size after filtering"
      ],
      "metadata": {
        "id": "Y3PlbJODAyJA"
      }
    },
    {
      "cell_type": "code",
      "source": [
        "df.shape"
      ],
      "metadata": {
        "colab": {
          "base_uri": "https://localhost:8080/"
        },
        "id": "PtuATzVZZaXe",
        "outputId": "c2e7b3e1-b09c-453e-c072-1d5919475167"
      },
      "execution_count": 20,
      "outputs": [
        {
          "output_type": "execute_result",
          "data": {
            "text/plain": [
              "(809, 6)"
            ]
          },
          "metadata": {},
          "execution_count": 20
        }
      ]
    },
    {
      "cell_type": "markdown",
      "source": [
        "# Gender distribution after filtering"
      ],
      "metadata": {
        "id": "Qt6tpPoaatUQ"
      }
    },
    {
      "cell_type": "code",
      "source": [
        "df['gender'].value_counts()"
      ],
      "metadata": {
        "colab": {
          "base_uri": "https://localhost:8080/"
        },
        "id": "aC4kDt3rvcLM",
        "outputId": "b8e91ad3-f1f7-4bef-98d3-0600639bcd01"
      },
      "execution_count": 21,
      "outputs": [
        {
          "output_type": "execute_result",
          "data": {
            "text/plain": [
              "Άντρας     768\n",
              "Γυναίκα     41\n",
              "Name: gender, dtype: int64"
            ]
          },
          "metadata": {},
          "execution_count": 21
        }
      ]
    },
    {
      "cell_type": "markdown",
      "source": [
        "## Feature engineering and recoding"
      ],
      "metadata": {
        "id": "r0ow7o7pdiM3"
      }
    },
    {
      "cell_type": "code",
      "source": [
        "df['languagesNumber'] = df['languages'].map(lambda x: len(x.split(\",\")) if ',' in x else 1)"
      ],
      "metadata": {
        "id": "uByINkm4VrZU"
      },
      "execution_count": 22,
      "outputs": []
    },
    {
      "cell_type": "code",
      "source": [
        "df['languagesNumber'].value_counts()"
      ],
      "metadata": {
        "id": "yeXe1qXQA4_x",
        "outputId": "d6bfde84-1291-449b-c79b-1f7596cb9589",
        "colab": {
          "base_uri": "https://localhost:8080/"
        }
      },
      "execution_count": 23,
      "outputs": [
        {
          "output_type": "execute_result",
          "data": {
            "text/plain": [
              "1    435\n",
              "2    263\n",
              "3     83\n",
              "4     18\n",
              "5      7\n",
              "6      3\n",
              "Name: languagesNumber, dtype: int64"
            ]
          },
          "metadata": {},
          "execution_count": 23
        }
      ]
    },
    {
      "cell_type": "code",
      "source": [
        "df['companySize'].value_counts()"
      ],
      "metadata": {
        "colab": {
          "base_uri": "https://localhost:8080/"
        },
        "id": "QExL_Z79dsk8",
        "outputId": "2f210574-96be-47b6-d93d-5b85f52684cc"
      },
      "execution_count": 24,
      "outputs": [
        {
          "output_type": "execute_result",
          "data": {
            "text/plain": [
              "501+         256\n",
              "11 - 50      179\n",
              "201 - 500    106\n",
              "51 - 100      94\n",
              "101 - 200     92\n",
              "1 - 10        82\n",
              "Name: companySize, dtype: int64"
            ]
          },
          "metadata": {},
          "execution_count": 24
        }
      ]
    },
    {
      "cell_type": "code",
      "source": [
        "df['companySizeBinned'] = df['companySize'].map({\n",
        "                                                '1 - 10':'small',\n",
        "                                                '11 - 50': 'small',\n",
        "                                                '51 - 100': 'small',\n",
        "                                                '101 - 200': 'medium',\n",
        "                                                '201 - 500': 'medium',\n",
        "                                                '501+': 'large'\n",
        "                                                })"
      ],
      "metadata": {
        "id": "TPnq3xrRd4pV"
      },
      "execution_count": 25,
      "outputs": []
    },
    {
      "cell_type": "code",
      "source": [
        "df['companySizeBinned'].value_counts()"
      ],
      "metadata": {
        "colab": {
          "base_uri": "https://localhost:8080/"
        },
        "id": "-B0LCLHxew-j",
        "outputId": "421b3897-6c50-40b9-ac30-6bcc1d45fe1b"
      },
      "execution_count": 26,
      "outputs": [
        {
          "output_type": "execute_result",
          "data": {
            "text/plain": [
              "small     355\n",
              "large     256\n",
              "medium    198\n",
              "Name: companySizeBinned, dtype: int64"
            ]
          },
          "metadata": {},
          "execution_count": 26
        }
      ]
    },
    {
      "cell_type": "code",
      "source": [
        "df['companySizeBinnedRecoded'] = df['companySizeBinned'].map({\"small\":1, \"medium\":2, \"large\": 3})"
      ],
      "metadata": {
        "id": "R6q9SWfMfpSR"
      },
      "execution_count": 27,
      "outputs": []
    },
    {
      "cell_type": "code",
      "source": [
        "df['genderRecoded'] = df['gender'].map({\"Άντρας\":1, \"Γυναίκα\":0})"
      ],
      "metadata": {
        "id": "5RuLAXUVgjJY"
      },
      "execution_count": 28,
      "outputs": []
    },
    {
      "cell_type": "code",
      "source": [
        "df['jobLocationRecoded'] = df['jobLocation'].map({\"Ελλάδα\":1, \"Εξωτερικό\":0})"
      ],
      "metadata": {
        "id": "grwEJAl2iBL5"
      },
      "execution_count": 29,
      "outputs": []
    },
    {
      "cell_type": "markdown",
      "source": [
        "# Ordinary Least Square regression"
      ],
      "metadata": {
        "id": "Mu5haiv5hxdk"
      }
    },
    {
      "cell_type": "code",
      "source": [
        "X = df[['genderRecoded', 'experience', 'languagesNumber', 'companySizeBinnedRecoded', 'jobLocationRecoded']]\n",
        "X.insert(0, 'intercept', 1)\n",
        "y = df['salary']"
      ],
      "metadata": {
        "id": "g_4SQWUSh4ml"
      },
      "execution_count": 31,
      "outputs": []
    },
    {
      "cell_type": "code",
      "source": [
        "model = sm.OLS(y, X).fit()"
      ],
      "metadata": {
        "id": "U6L9Kf0fiqKN"
      },
      "execution_count": 32,
      "outputs": []
    },
    {
      "cell_type": "code",
      "source": [
        "model.summary()"
      ],
      "metadata": {
        "colab": {
          "base_uri": "https://localhost:8080/",
          "height": 516
        },
        "id": "8k4QIbDOi0re",
        "outputId": "470ade9f-c3bf-443e-be31-5622bf9f5bb6"
      },
      "execution_count": 33,
      "outputs": [
        {
          "output_type": "execute_result",
          "data": {
            "text/plain": [
              "<class 'statsmodels.iolib.summary.Summary'>\n",
              "\"\"\"\n",
              "                            OLS Regression Results                            \n",
              "==============================================================================\n",
              "Dep. Variable:                 salary   R-squared:                       0.321\n",
              "Model:                            OLS   Adj. R-squared:                  0.317\n",
              "Method:                 Least Squares   F-statistic:                     76.04\n",
              "Date:                Mon, 27 Nov 2023   Prob (F-statistic):           2.85e-65\n",
              "Time:                        13:43:02   Log-Likelihood:                -8095.5\n",
              "No. Observations:                 809   AIC:                         1.620e+04\n",
              "Df Residuals:                     803   BIC:                         1.623e+04\n",
              "Df Model:                           5                                         \n",
              "Covariance Type:            nonrobust                                         \n",
              "============================================================================================\n",
              "                               coef    std err          t      P>|t|      [0.025      0.975]\n",
              "--------------------------------------------------------------------------------------------\n",
              "intercept                 2.264e+04   1245.599     18.176      0.000    2.02e+04    2.51e+04\n",
              "genderRecoded              712.8264    865.005      0.824      0.410    -985.112    2410.764\n",
              "experience                 717.7014     45.529     15.764      0.000     628.332     807.070\n",
              "languagesNumber            -73.7877    223.683     -0.330      0.742    -512.860     365.285\n",
              "companySizeBinnedRecoded  1037.6986    220.377      4.709      0.000     605.115    1470.282\n",
              "jobLocationRecoded       -7683.0672    713.801    -10.764      0.000   -9084.204   -6281.931\n",
              "==============================================================================\n",
              "Omnibus:                       25.372   Durbin-Watson:                   2.045\n",
              "Prob(Omnibus):                  0.000   Jarque-Bera (JB):               60.106\n",
              "Skew:                          -0.020   Prob(JB):                     8.88e-14\n",
              "Kurtosis:                       4.335   Cond. No.                         49.2\n",
              "==============================================================================\n",
              "\n",
              "Notes:\n",
              "[1] Standard Errors assume that the covariance matrix of the errors is correctly specified.\n",
              "\"\"\""
            ],
            "text/html": [
              "<table class=\"simpletable\">\n",
              "<caption>OLS Regression Results</caption>\n",
              "<tr>\n",
              "  <th>Dep. Variable:</th>         <td>salary</td>      <th>  R-squared:         </th> <td>   0.321</td> \n",
              "</tr>\n",
              "<tr>\n",
              "  <th>Model:</th>                   <td>OLS</td>       <th>  Adj. R-squared:    </th> <td>   0.317</td> \n",
              "</tr>\n",
              "<tr>\n",
              "  <th>Method:</th>             <td>Least Squares</td>  <th>  F-statistic:       </th> <td>   76.04</td> \n",
              "</tr>\n",
              "<tr>\n",
              "  <th>Date:</th>             <td>Mon, 27 Nov 2023</td> <th>  Prob (F-statistic):</th> <td>2.85e-65</td> \n",
              "</tr>\n",
              "<tr>\n",
              "  <th>Time:</th>                 <td>13:43:02</td>     <th>  Log-Likelihood:    </th> <td> -8095.5</td> \n",
              "</tr>\n",
              "<tr>\n",
              "  <th>No. Observations:</th>      <td>   809</td>      <th>  AIC:               </th> <td>1.620e+04</td>\n",
              "</tr>\n",
              "<tr>\n",
              "  <th>Df Residuals:</th>          <td>   803</td>      <th>  BIC:               </th> <td>1.623e+04</td>\n",
              "</tr>\n",
              "<tr>\n",
              "  <th>Df Model:</th>              <td>     5</td>      <th>                     </th>     <td> </td>    \n",
              "</tr>\n",
              "<tr>\n",
              "  <th>Covariance Type:</th>      <td>nonrobust</td>    <th>                     </th>     <td> </td>    \n",
              "</tr>\n",
              "</table>\n",
              "<table class=\"simpletable\">\n",
              "<tr>\n",
              "              <td></td>                <th>coef</th>     <th>std err</th>      <th>t</th>      <th>P>|t|</th>  <th>[0.025</th>    <th>0.975]</th>  \n",
              "</tr>\n",
              "<tr>\n",
              "  <th>intercept</th>                <td> 2.264e+04</td> <td> 1245.599</td> <td>   18.176</td> <td> 0.000</td> <td> 2.02e+04</td> <td> 2.51e+04</td>\n",
              "</tr>\n",
              "<tr>\n",
              "  <th>genderRecoded</th>            <td>  712.8264</td> <td>  865.005</td> <td>    0.824</td> <td> 0.410</td> <td> -985.112</td> <td> 2410.764</td>\n",
              "</tr>\n",
              "<tr>\n",
              "  <th>experience</th>               <td>  717.7014</td> <td>   45.529</td> <td>   15.764</td> <td> 0.000</td> <td>  628.332</td> <td>  807.070</td>\n",
              "</tr>\n",
              "<tr>\n",
              "  <th>languagesNumber</th>          <td>  -73.7877</td> <td>  223.683</td> <td>   -0.330</td> <td> 0.742</td> <td> -512.860</td> <td>  365.285</td>\n",
              "</tr>\n",
              "<tr>\n",
              "  <th>companySizeBinnedRecoded</th> <td> 1037.6986</td> <td>  220.377</td> <td>    4.709</td> <td> 0.000</td> <td>  605.115</td> <td> 1470.282</td>\n",
              "</tr>\n",
              "<tr>\n",
              "  <th>jobLocationRecoded</th>       <td>-7683.0672</td> <td>  713.801</td> <td>  -10.764</td> <td> 0.000</td> <td>-9084.204</td> <td>-6281.931</td>\n",
              "</tr>\n",
              "</table>\n",
              "<table class=\"simpletable\">\n",
              "<tr>\n",
              "  <th>Omnibus:</th>       <td>25.372</td> <th>  Durbin-Watson:     </th> <td>   2.045</td>\n",
              "</tr>\n",
              "<tr>\n",
              "  <th>Prob(Omnibus):</th> <td> 0.000</td> <th>  Jarque-Bera (JB):  </th> <td>  60.106</td>\n",
              "</tr>\n",
              "<tr>\n",
              "  <th>Skew:</th>          <td>-0.020</td> <th>  Prob(JB):          </th> <td>8.88e-14</td>\n",
              "</tr>\n",
              "<tr>\n",
              "  <th>Kurtosis:</th>      <td> 4.335</td> <th>  Cond. No.          </th> <td>    49.2</td>\n",
              "</tr>\n",
              "</table><br/><br/>Notes:<br/>[1] Standard Errors assume that the covariance matrix of the errors is correctly specified."
            ],
            "text/latex": "\\begin{center}\n\\begin{tabular}{lclc}\n\\toprule\n\\textbf{Dep. Variable:}           &      salary      & \\textbf{  R-squared:         } &     0.321   \\\\\n\\textbf{Model:}                   &       OLS        & \\textbf{  Adj. R-squared:    } &     0.317   \\\\\n\\textbf{Method:}                  &  Least Squares   & \\textbf{  F-statistic:       } &     76.04   \\\\\n\\textbf{Date:}                    & Mon, 27 Nov 2023 & \\textbf{  Prob (F-statistic):} &  2.85e-65   \\\\\n\\textbf{Time:}                    &     13:43:02     & \\textbf{  Log-Likelihood:    } &   -8095.5   \\\\\n\\textbf{No. Observations:}        &         809      & \\textbf{  AIC:               } & 1.620e+04   \\\\\n\\textbf{Df Residuals:}            &         803      & \\textbf{  BIC:               } & 1.623e+04   \\\\\n\\textbf{Df Model:}                &           5      & \\textbf{                     } &             \\\\\n\\textbf{Covariance Type:}         &    nonrobust     & \\textbf{                     } &             \\\\\n\\bottomrule\n\\end{tabular}\n\\begin{tabular}{lcccccc}\n                                  & \\textbf{coef} & \\textbf{std err} & \\textbf{t} & \\textbf{P$> |$t$|$} & \\textbf{[0.025} & \\textbf{0.975]}  \\\\\n\\midrule\n\\textbf{intercept}                &    2.264e+04  &     1245.599     &    18.176  &         0.000        &     2.02e+04    &     2.51e+04     \\\\\n\\textbf{genderRecoded}            &     712.8264  &      865.005     &     0.824  &         0.410        &     -985.112    &     2410.764     \\\\\n\\textbf{experience}               &     717.7014  &       45.529     &    15.764  &         0.000        &      628.332    &      807.070     \\\\\n\\textbf{languagesNumber}          &     -73.7877  &      223.683     &    -0.330  &         0.742        &     -512.860    &      365.285     \\\\\n\\textbf{companySizeBinnedRecoded} &    1037.6986  &      220.377     &     4.709  &         0.000        &      605.115    &     1470.282     \\\\\n\\textbf{jobLocationRecoded}       &   -7683.0672  &      713.801     &   -10.764  &         0.000        &    -9084.204    &    -6281.931     \\\\\n\\bottomrule\n\\end{tabular}\n\\begin{tabular}{lclc}\n\\textbf{Omnibus:}       & 25.372 & \\textbf{  Durbin-Watson:     } &    2.045  \\\\\n\\textbf{Prob(Omnibus):} &  0.000 & \\textbf{  Jarque-Bera (JB):  } &   60.106  \\\\\n\\textbf{Skew:}          & -0.020 & \\textbf{  Prob(JB):          } & 8.88e-14  \\\\\n\\textbf{Kurtosis:}      &  4.335 & \\textbf{  Cond. No.          } &     49.2  \\\\\n\\bottomrule\n\\end{tabular}\n%\\caption{OLS Regression Results}\n\\end{center}\n\nNotes: \\newline\n [1] Standard Errors assume that the covariance matrix of the errors is correctly specified."
          },
          "metadata": {},
          "execution_count": 33
        }
      ]
    },
    {
      "cell_type": "code",
      "source": [
        "# Plot residuals\n",
        "sns.scatterplot(\n",
        "    x=model.get_prediction().summary_frame()['mean'],\n",
        "    y=model.resid\n",
        "    )\n",
        "plt.axhline(y=0)\n",
        "plt.xlabel(\"Fitted value\")\n",
        "plt.ylabel(\"Residuals\")\n",
        "plt.show()"
      ],
      "metadata": {
        "colab": {
          "base_uri": "https://localhost:8080/",
          "height": 449
        },
        "id": "iKzbT4dKkoLV",
        "outputId": "3f7f0e2b-db94-432a-f060-0c5e54c7f2f5"
      },
      "execution_count": 34,
      "outputs": [
        {
          "output_type": "display_data",
          "data": {
            "text/plain": [
              "<Figure size 640x480 with 1 Axes>"
            ],
            "image/png": "[encoded data removed]"
          },
          "metadata": {}
        }
      ]
    },
    {
      "cell_type": "markdown",
      "source": [
        "# Results interpretation"
      ],
      "metadata": {
        "id": "Z6sIrzwRB-UZ"
      }
    },
    {
      "cell_type": "code",
      "source": [
        "model.params"
      ],
      "metadata": {
        "colab": {
          "base_uri": "https://localhost:8080/"
        },
        "id": "PLQZVx2ykBAw",
        "outputId": "a2b0a718-93a8-4728-f9b7-c59cdbc65dad"
      },
      "execution_count": 80,
      "outputs": [
        {
          "output_type": "execute_result",
          "data": {
            "text/plain": [
              "intercept                   22640.493550\n",
              "genderRecoded                 712.826352\n",
              "experience                    717.701417\n",
              "languagesNumber               -73.787692\n",
              "companySizeBinnedRecoded     1037.698576\n",
              "jobLocationRecoded          -7683.067187\n",
              "dtype: float64"
            ]
          },
          "metadata": {},
          "execution_count": 80
        }
      ]
    },
    {
      "cell_type": "markdown",
      "source": [
        "## General remark\n",
        "\n",
        "Based on the included features, the model captures only 32% of the variability of the observed salaries. That's not great, but at least it represents a decent starting point.\n",
        "\n",
        "The coefficients for the factors \"gender\" and \"number of languages\" were statistically not significant. This means that these factors do not appear to have an effect on the observed salaries. However, this result could also be due to the sample size."
      ],
      "metadata": {
        "id": "IuHYThxHCjsK"
      }
    },
    {
      "cell_type": "markdown",
      "source": [
        "## Interpretation\n",
        "\n",
        "If the programmer works in Greece, then the annual income (ie without considering any the other factor) is 14957 €, whereas abroad is 30323 €.\n",
        "\n",
        "Then, we consider each factor one by one, keeping at the same time the rest fixed:\n",
        "1. If the programmer is male then 712 € are added to his annual income.\n",
        "2. For every year of experience the programmer has, 717 € are added to the annual income.\n",
        "3. If the programmer works for a medium-sized company (101 to 500 people) then 1037 € are added to his annual incone, whereas 2074 € are added If he works for a large company (501+ poeple).\n",
        "2. Now, something unexpected. For every additional language the programmer knows, his annual income is reduced by 73 €. However, keep in mind that all the values I'm referring to, have a range and I'm considering the mean. This factor has a mean of 73 € and a range that goes from -512 € to 365 €. This means that there are programmers that for each language they know, their annual income is reduced by 512 € and others that their annual income is increased by 365 €. However, on average the annual income is reduced by 73 € for every additional language the programmer knows.\n",
        "\n",
        "Therefore, if we consider a programmer with the following characteristics:\n",
        "- The programmer is male.\n",
        "- His job is in Greece.\n",
        "- He works for a medium-sized company.\n",
        "- He has 2 yeas of experience.\n",
        "- He knows 2 programming languages.\n",
        "\n",
        "then his annual income could range from 24270 to 27087 € with a mean of 25678 €. Under certain conditions (not captured by the model) his annual income can range from 15012 to 36344 €.\n",
        "\n"
      ],
      "metadata": {
        "id": "Cc9_WscUEFG-"
      }
    }
  ]
}