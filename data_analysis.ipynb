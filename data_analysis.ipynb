{
  "nbformat": 4,
  "nbformat_minor": 0,
  "metadata": {
    "colab": {
      "provenance": [],
      "include_colab_link": true
    },
    "kernelspec": {
      "name": "python3",
      "display_name": "Python 3"
    },
    "language_info": {
      "name": "python"
    }
  },
  "cells": [
    {
      "cell_type": "markdown",
      "metadata": {
        "id": "view-in-github",
        "colab_type": "text"
      },
      "source": [
        "<a href=\"https://colab.research.google.com/github/dkioroglou/programmers_salaries_2023/blob/main/data_analysis.ipynb\" target=\"_parent\"><img src=\"https://colab.research.google.com/assets/colab-badge.svg\" alt=\"Open In Colab\"/></a>"
      ]
    },
    {
      "cell_type": "code",
      "execution_count": null,
      "metadata": {
        "id": "_jOXNVkKQmem"
      },
      "outputs": [],
      "source": [
        "import pandas as pd\n",
        "import numpy as np\n",
        "import statsmodels.api as sm\n",
        "import matplotlib.pyplot as plt\n",
        "import seaborn as sns"
      ]
    },
    {
      "cell_type": "code",
      "source": [
        "df = pd.read_csv(\"https://raw.githubusercontent.com/dkioroglou/programmers_salaries_2023/main/data/salaries_2023.csv\")"
      ],
      "metadata": {
        "id": "Qx7xXAazQyJy"
      },
      "execution_count": null,
      "outputs": []
    },
    {
      "cell_type": "code",
      "source": [
        "df = df[[\n",
        "      '[Fixed] Ποιος είναι ο ΕΤΗΣΙΟΣ ΚΑΘΑΡΟΣ μισθός σου σε €;',\n",
        "      'Με ποιες γλώσσες προγραμματισμού δουλεύεις επαγγελματικά αυτή την περίοδο;',\n",
        "      'Πόσα χρόνια δουλεύεις επαγγελματικά ως προγραμματιστής;',\n",
        "      'Φύλλο;',\n",
        "      '[GROUP] Σε ποια πόλη δουλεύεις, Greece ή Abroad',\n",
        "      'Τι μέγεθος είναι η εταιρεία που δουλεύεις;'\n",
        "      ]]\n",
        "\n",
        "df.columns = [\n",
        "      'salary',\n",
        "      'languages',\n",
        "      'experience',\n",
        "      'gender',\n",
        "      'jobLocation',\n",
        "      'companySize'\n",
        "      ]"
      ],
      "metadata": {
        "id": "QY8-Z2WURPNL"
      },
      "execution_count": null,
      "outputs": []
    },
    {
      "cell_type": "markdown",
      "source": [
        "# Missing values distribution"
      ],
      "metadata": {
        "id": "ZN_YF7aKaz5q"
      }
    },
    {
      "cell_type": "code",
      "source": [
        "df.isna().sum()"
      ],
      "metadata": {
        "colab": {
          "base_uri": "https://localhost:8080/"
        },
        "id": "LX-ecHTEa4oX",
        "outputId": "f694b7cb-2081-47ac-ac46-b6d0306dcc97"
      },
      "execution_count": null,
      "outputs": [
        {
          "output_type": "execute_result",
          "data": {
            "text/plain": [
              "salary         0\n",
              "languages      0\n",
              "experience     0\n",
              "gender         2\n",
              "jobLocation    0\n",
              "companySize    0\n",
              "dtype: int64"
            ]
          },
          "metadata": {},
          "execution_count": 153
        }
      ]
    },
    {
      "cell_type": "code",
      "source": [
        "df['gender'].value_counts()"
      ],
      "metadata": {
        "colab": {
          "base_uri": "https://localhost:8080/"
        },
        "id": "8W47jQwkaetv",
        "outputId": "bc2e234c-d9ad-41d8-f87b-dd462d3a3f2d"
      },
      "execution_count": null,
      "outputs": [
        {
          "output_type": "execute_result",
          "data": {
            "text/plain": [
              "Άντρας               949\n",
              "Γυναίκα               53\n",
              "Προτιμώ να μην πω      1\n",
              "Nuclear Sub            1\n",
              "Name: gender, dtype: int64"
            ]
          },
          "metadata": {},
          "execution_count": 155
        }
      ]
    },
    {
      "cell_type": "code",
      "source": [
        "mask = df.isna()['gender']\n",
        "df[mask]"
      ],
      "metadata": {
        "colab": {
          "base_uri": "https://localhost:8080/",
          "height": 112
        },
        "id": "YGd-aBNNZ6zP",
        "outputId": "77d98966-bd1f-4165-ffe3-5b9f04f442e8"
      },
      "execution_count": null,
      "outputs": [
        {
          "output_type": "execute_result",
          "data": {
            "text/plain": [
              "      salary         languages  experience gender jobLocation companySize\n",
              "64   19600.0  JavaScript, Ruby           7    NaN      Ελλάδα   201 - 500\n",
              "541  10100.0  Java, JavaScript           1    NaN      Ελλάδα   101 - 200"
            ],
            "text/html": [
              "\n",
              "  <div id=\"df-46d136c6-55e1-4e3a-97e3-1792bb70cf94\" class=\"colab-df-container\">\n",
              "    <div>\n",
              "<style scoped>\n",
              "    .dataframe tbody tr th:only-of-type {\n",
              "        vertical-align: middle;\n",
              "    }\n",
              "\n",
              "    .dataframe tbody tr th {\n",
              "        vertical-align: top;\n",
              "    }\n",
              "\n",
              "    .dataframe thead th {\n",
              "        text-align: right;\n",
              "    }\n",
              "</style>\n",
              "<table border=\"1\" class=\"dataframe\">\n",
              "  <thead>\n",
              "    <tr style=\"text-align: right;\">\n",
              "      <th></th>\n",
              "      <th>salary</th>\n",
              "      <th>languages</th>\n",
              "      <th>experience</th>\n",
              "      <th>gender</th>\n",
              "      <th>jobLocation</th>\n",
              "      <th>companySize</th>\n",
              "    </tr>\n",
              "  </thead>\n",
              "  <tbody>\n",
              "    <tr>\n",
              "      <th>64</th>\n",
              "      <td>19600.0</td>\n",
              "      <td>JavaScript, Ruby</td>\n",
              "      <td>7</td>\n",
              "      <td>NaN</td>\n",
              "      <td>Ελλάδα</td>\n",
              "      <td>201 - 500</td>\n",
              "    </tr>\n",
              "    <tr>\n",
              "      <th>541</th>\n",
              "      <td>10100.0</td>\n",
              "      <td>Java, JavaScript</td>\n",
              "      <td>1</td>\n",
              "      <td>NaN</td>\n",
              "      <td>Ελλάδα</td>\n",
              "      <td>101 - 200</td>\n",
              "    </tr>\n",
              "  </tbody>\n",
              "</table>\n",
              "</div>\n",
              "    <div class=\"colab-df-buttons\">\n",
              "\n",
              "  <div class=\"colab-df-container\">\n",
              "    <button class=\"colab-df-convert\" onclick=\"convertToInteractive('df-46d136c6-55e1-4e3a-97e3-1792bb70cf94')\"\n",
              "            title=\"Convert this dataframe to an interactive table.\"\n",
              "            style=\"display:none;\">\n",
              "\n",
              "  <svg xmlns=\"http://www.w3.org/2000/svg\" height=\"24px\" viewBox=\"0 -960 960 960\">\n",
              "    <path d=\"M120-120v-720h720v720H120Zm60-500h600v-160H180v160Zm220 220h160v-160H400v160Zm0 220h160v-160H400v160ZM180-400h160v-160H180v160Zm440 0h160v-160H620v160ZM180-180h160v-160H180v160Zm440 0h160v-160H620v160Z\"/>\n",
              "  </svg>\n",
              "    </button>\n",
              "\n",
              "  <style>\n",
              "    .colab-df-container {\n",
              "      display:flex;\n",
              "      gap: 12px;\n",
              "    }\n",
              "\n",
              "    .colab-df-convert {\n",
              "      background-color: #E8F0FE;\n",
              "      border: none;\n",
              "      border-radius: 50%;\n",
              "      cursor: pointer;\n",
              "      display: none;\n",
              "      fill: #1967D2;\n",
              "      height: 32px;\n",
              "      padding: 0 0 0 0;\n",
              "      width: 32px;\n",
              "    }\n",
              "\n",
              "    .colab-df-convert:hover {\n",
              "      background-color: #E2EBFA;\n",
              "      box-shadow: 0px 1px 2px rgba(60, 64, 67, 0.3), 0px 1px 3px 1px rgba(60, 64, 67, 0.15);\n",
              "      fill: #174EA6;\n",
              "    }\n",
              "\n",
              "    .colab-df-buttons div {\n",
              "      margin-bottom: 4px;\n",
              "    }\n",
              "\n",
              "    [theme=dark] .colab-df-convert {\n",
              "      background-color: #3B4455;\n",
              "      fill: #D2E3FC;\n",
              "    }\n",
              "\n",
              "    [theme=dark] .colab-df-convert:hover {\n",
              "      background-color: #434B5C;\n",
              "      box-shadow: 0px 1px 3px 1px rgba(0, 0, 0, 0.15);\n",
              "      filter: drop-shadow(0px 1px 2px rgba(0, 0, 0, 0.3));\n",
              "      fill: #FFFFFF;\n",
              "    }\n",
              "  </style>\n",
              "\n",
              "    <script>\n",
              "      const buttonEl =\n",
              "        document.querySelector('#df-46d136c6-55e1-4e3a-97e3-1792bb70cf94 button.colab-df-convert');\n",
              "      buttonEl.style.display =\n",
              "        google.colab.kernel.accessAllowed ? 'block' : 'none';\n",
              "\n",
              "      async function convertToInteractive(key) {\n",
              "        const element = document.querySelector('#df-46d136c6-55e1-4e3a-97e3-1792bb70cf94');\n",
              "        const dataTable =\n",
              "          await google.colab.kernel.invokeFunction('convertToInteractive',\n",
              "                                                    [key], {});\n",
              "        if (!dataTable) return;\n",
              "\n",
              "        const docLinkHtml = 'Like what you see? Visit the ' +\n",
              "          '<a target=\"_blank\" href=https://colab.research.google.com/notebooks/data_table.ipynb>data table notebook</a>'\n",
              "          + ' to learn more about interactive tables.';\n",
              "        element.innerHTML = '';\n",
              "        dataTable['output_type'] = 'display_data';\n",
              "        await google.colab.output.renderOutput(dataTable, element);\n",
              "        const docLink = document.createElement('div');\n",
              "        docLink.innerHTML = docLinkHtml;\n",
              "        element.appendChild(docLink);\n",
              "      }\n",
              "    </script>\n",
              "  </div>\n",
              "\n",
              "\n",
              "<div id=\"df-b56349db-4a1d-4bf9-ae21-b373450108fb\">\n",
              "  <button class=\"colab-df-quickchart\" onclick=\"quickchart('df-b56349db-4a1d-4bf9-ae21-b373450108fb')\"\n",
              "            title=\"Suggest charts\"\n",
              "            style=\"display:none;\">\n",
              "\n",
              "<svg xmlns=\"http://www.w3.org/2000/svg\" height=\"24px\"viewBox=\"0 0 24 24\"\n",
              "     width=\"24px\">\n",
              "    <g>\n",
              "        <path d=\"M19 3H5c-1.1 0-2 .9-2 2v14c0 1.1.9 2 2 2h14c1.1 0 2-.9 2-2V5c0-1.1-.9-2-2-2zM9 17H7v-7h2v7zm4 0h-2V7h2v10zm4 0h-2v-4h2v4z\"/>\n",
              "    </g>\n",
              "</svg>\n",
              "  </button>\n",
              "\n",
              "<style>\n",
              "  .colab-df-quickchart {\n",
              "      --bg-color: #E8F0FE;\n",
              "      --fill-color: #1967D2;\n",
              "      --hover-bg-color: #E2EBFA;\n",
              "      --hover-fill-color: #174EA6;\n",
              "      --disabled-fill-color: #AAA;\n",
              "      --disabled-bg-color: #DDD;\n",
              "  }\n",
              "\n",
              "  [theme=dark] .colab-df-quickchart {\n",
              "      --bg-color: #3B4455;\n",
              "      --fill-color: #D2E3FC;\n",
              "      --hover-bg-color: #434B5C;\n",
              "      --hover-fill-color: #FFFFFF;\n",
              "      --disabled-bg-color: #3B4455;\n",
              "      --disabled-fill-color: #666;\n",
              "  }\n",
              "\n",
              "  .colab-df-quickchart {\n",
              "    background-color: var(--bg-color);\n",
              "    border: none;\n",
              "    border-radius: 50%;\n",
              "    cursor: pointer;\n",
              "    display: none;\n",
              "    fill: var(--fill-color);\n",
              "    height: 32px;\n",
              "    padding: 0;\n",
              "    width: 32px;\n",
              "  }\n",
              "\n",
              "  .colab-df-quickchart:hover {\n",
              "    background-color: var(--hover-bg-color);\n",
              "    box-shadow: 0 1px 2px rgba(60, 64, 67, 0.3), 0 1px 3px 1px rgba(60, 64, 67, 0.15);\n",
              "    fill: var(--button-hover-fill-color);\n",
              "  }\n",
              "\n",
              "  .colab-df-quickchart-complete:disabled,\n",
              "  .colab-df-quickchart-complete:disabled:hover {\n",
              "    background-color: var(--disabled-bg-color);\n",
              "    fill: var(--disabled-fill-color);\n",
              "    box-shadow: none;\n",
              "  }\n",
              "\n",
              "  .colab-df-spinner {\n",
              "    border: 2px solid var(--fill-color);\n",
              "    border-color: transparent;\n",
              "    border-bottom-color: var(--fill-color);\n",
              "    animation:\n",
              "      spin 1s steps(1) infinite;\n",
              "  }\n",
              "\n",
              "  @keyframes spin {\n",
              "    0% {\n",
              "      border-color: transparent;\n",
              "      border-bottom-color: var(--fill-color);\n",
              "      border-left-color: var(--fill-color);\n",
              "    }\n",
              "    20% {\n",
              "      border-color: transparent;\n",
              "      border-left-color: var(--fill-color);\n",
              "      border-top-color: var(--fill-color);\n",
              "    }\n",
              "    30% {\n",
              "      border-color: transparent;\n",
              "      border-left-color: var(--fill-color);\n",
              "      border-top-color: var(--fill-color);\n",
              "      border-right-color: var(--fill-color);\n",
              "    }\n",
              "    40% {\n",
              "      border-color: transparent;\n",
              "      border-right-color: var(--fill-color);\n",
              "      border-top-color: var(--fill-color);\n",
              "    }\n",
              "    60% {\n",
              "      border-color: transparent;\n",
              "      border-right-color: var(--fill-color);\n",
              "    }\n",
              "    80% {\n",
              "      border-color: transparent;\n",
              "      border-right-color: var(--fill-color);\n",
              "      border-bottom-color: var(--fill-color);\n",
              "    }\n",
              "    90% {\n",
              "      border-color: transparent;\n",
              "      border-bottom-color: var(--fill-color);\n",
              "    }\n",
              "  }\n",
              "</style>\n",
              "\n",
              "  <script>\n",
              "    async function quickchart(key) {\n",
              "      const quickchartButtonEl =\n",
              "        document.querySelector('#' + key + ' button');\n",
              "      quickchartButtonEl.disabled = true;  // To prevent multiple clicks.\n",
              "      quickchartButtonEl.classList.add('colab-df-spinner');\n",
              "      try {\n",
              "        const charts = await google.colab.kernel.invokeFunction(\n",
              "            'suggestCharts', [key], {});\n",
              "      } catch (error) {\n",
              "        console.error('Error during call to suggestCharts:', error);\n",
              "      }\n",
              "      quickchartButtonEl.classList.remove('colab-df-spinner');\n",
              "      quickchartButtonEl.classList.add('colab-df-quickchart-complete');\n",
              "    }\n",
              "    (() => {\n",
              "      let quickchartButtonEl =\n",
              "        document.querySelector('#df-b56349db-4a1d-4bf9-ae21-b373450108fb button');\n",
              "      quickchartButtonEl.style.display =\n",
              "        google.colab.kernel.accessAllowed ? 'block' : 'none';\n",
              "    })();\n",
              "  </script>\n",
              "</div>\n",
              "    </div>\n",
              "  </div>\n"
            ]
          },
          "metadata": {},
          "execution_count": 156
        }
      ]
    },
    {
      "cell_type": "code",
      "source": [
        "# Remove entries with missing or unspecified gender\n",
        "df =  df.drop([64, 541, 68, 167])"
      ],
      "metadata": {
        "id": "SIff9_cdc0eT"
      },
      "execution_count": null,
      "outputs": []
    },
    {
      "cell_type": "markdown",
      "source": [
        "# Distribution of salaries"
      ],
      "metadata": {
        "id": "M1a9hifCrnPw"
      }
    },
    {
      "cell_type": "code",
      "source": [
        "df['salary'].describe()"
      ],
      "metadata": {
        "colab": {
          "base_uri": "https://localhost:8080/"
        },
        "id": "0ykm7dmirq0Q",
        "outputId": "cf117273-4f05-48fc-a592-031db3aba317"
      },
      "execution_count": null,
      "outputs": [
        {
          "output_type": "execute_result",
          "data": {
            "text/plain": [
              "count      1002.000000\n",
              "mean      24117.334262\n",
              "std       16305.507428\n",
              "min          15.008000\n",
              "25%       14820.000000\n",
              "50%       20155.000000\n",
              "75%       27595.000000\n",
              "max      180000.000000\n",
              "Name: salary, dtype: float64"
            ]
          },
          "metadata": {},
          "execution_count": 158
        }
      ]
    },
    {
      "cell_type": "code",
      "source": [
        "sns.histplot(df['salary'], binwidth=1000)"
      ],
      "metadata": {
        "colab": {
          "base_uri": "https://localhost:8080/",
          "height": 467
        },
        "id": "ZnrBngmTr1Hs",
        "outputId": "1050d03a-ba59-4b2c-fd7d-7398cd6f7383"
      },
      "execution_count": null,
      "outputs": [
        {
          "output_type": "execute_result",
          "data": {
            "text/plain": [
              "<Axes: xlabel='salary', ylabel='Count'>"
            ]
          },
          "metadata": {},
          "execution_count": 159
        },
        {
          "output_type": "display_data",
          "data": {
            "text/plain": [
              "<Figure size 640x480 with 1 Axes>"
            ],
            "image/png": "[encoded data removed]"
          },
          "metadata": {}
        }
      ]
    },
    {
      "cell_type": "code",
      "source": [
        "# Remove outliers\n",
        "# Select data with salaries between the 10th and 90th percentiles of salaries\n",
        "perc10th =  df['salary'].quantile(0.1)\n",
        "perc90th = df['salary'].quantile(0.9)\n",
        "df = df.query('salary >= @perc10th & salary <= @perc90th')"
      ],
      "metadata": {
        "id": "SDzM09iDsP-2"
      },
      "execution_count": null,
      "outputs": []
    },
    {
      "cell_type": "code",
      "source": [
        "sns.histplot(df['salary'], binwidth=1000)"
      ],
      "metadata": {
        "colab": {
          "base_uri": "https://localhost:8080/",
          "height": 467
        },
        "id": "EA67veNCvMxx",
        "outputId": "9ce5368c-19bb-4245-d0f2-f5966d5baee8"
      },
      "execution_count": null,
      "outputs": [
        {
          "output_type": "execute_result",
          "data": {
            "text/plain": [
              "<Axes: xlabel='salary', ylabel='Count'>"
            ]
          },
          "metadata": {},
          "execution_count": 161
        },
        {
          "output_type": "display_data",
          "data": {
            "text/plain": [
              "<Figure size 640x480 with 1 Axes>"
            ],
            "image/png": "[encoded data removed]"
          },
          "metadata": {}
        }
      ]
    },
    {
      "cell_type": "code",
      "source": [
        "df.shape"
      ],
      "metadata": {
        "colab": {
          "base_uri": "https://localhost:8080/"
        },
        "id": "PtuATzVZZaXe",
        "outputId": "90d98cc7-ad92-4f56-d786-d9024db5bc39"
      },
      "execution_count": null,
      "outputs": [
        {
          "output_type": "execute_result",
          "data": {
            "text/plain": [
              "(809, 6)"
            ]
          },
          "metadata": {},
          "execution_count": 162
        }
      ]
    },
    {
      "cell_type": "markdown",
      "source": [
        "# Gender distribution after filtering"
      ],
      "metadata": {
        "id": "Qt6tpPoaatUQ"
      }
    },
    {
      "cell_type": "code",
      "source": [
        "df['gender'].value_counts()"
      ],
      "metadata": {
        "colab": {
          "base_uri": "https://localhost:8080/"
        },
        "id": "aC4kDt3rvcLM",
        "outputId": "99a8f54f-93e1-486a-cc5d-f0cf01f699d3"
      },
      "execution_count": null,
      "outputs": [
        {
          "output_type": "execute_result",
          "data": {
            "text/plain": [
              "Άντρας     768\n",
              "Γυναίκα     41\n",
              "Name: gender, dtype: int64"
            ]
          },
          "metadata": {},
          "execution_count": 163
        }
      ]
    },
    {
      "cell_type": "markdown",
      "source": [
        "## Feature engineering and recoding"
      ],
      "metadata": {
        "id": "r0ow7o7pdiM3"
      }
    },
    {
      "cell_type": "code",
      "source": [
        "df['languagesNumber'] = df['languages'].map(lambda x: len(x.split(\",\")) if ',' in x else 1)"
      ],
      "metadata": {
        "id": "uByINkm4VrZU"
      },
      "execution_count": null,
      "outputs": []
    },
    {
      "cell_type": "code",
      "source": [
        "df['companySize'].value_counts()"
      ],
      "metadata": {
        "colab": {
          "base_uri": "https://localhost:8080/"
        },
        "id": "QExL_Z79dsk8",
        "outputId": "4c37c174-0c95-471e-92af-3fc741b43352"
      },
      "execution_count": null,
      "outputs": [
        {
          "output_type": "execute_result",
          "data": {
            "text/plain": [
              "501+         256\n",
              "11 - 50      179\n",
              "201 - 500    106\n",
              "51 - 100      94\n",
              "101 - 200     92\n",
              "1 - 10        82\n",
              "Name: companySize, dtype: int64"
            ]
          },
          "metadata": {},
          "execution_count": 165
        }
      ]
    },
    {
      "cell_type": "code",
      "source": [
        "df['companySizeBinned'] = df['companySize'].map({\n",
        "                                                '1 - 10':'small',\n",
        "                                                '11 - 50': 'small',\n",
        "                                                '51 - 100': 'small',\n",
        "                                                '101 - 200': 'medium',\n",
        "                                                '201 - 500': 'medium',\n",
        "                                                '501+': 'large'\n",
        "                                                })"
      ],
      "metadata": {
        "id": "TPnq3xrRd4pV"
      },
      "execution_count": null,
      "outputs": []
    },
    {
      "cell_type": "code",
      "source": [
        "df['companySizeBinned'].value_counts()"
      ],
      "metadata": {
        "colab": {
          "base_uri": "https://localhost:8080/"
        },
        "id": "-B0LCLHxew-j",
        "outputId": "3f0520de-fb39-445d-a579-88652948e01c"
      },
      "execution_count": null,
      "outputs": [
        {
          "output_type": "execute_result",
          "data": {
            "text/plain": [
              "small     355\n",
              "large     256\n",
              "medium    198\n",
              "Name: companySizeBinned, dtype: int64"
            ]
          },
          "metadata": {},
          "execution_count": 167
        }
      ]
    },
    {
      "cell_type": "code",
      "source": [
        "df['companySizeBinnedRecoded'] = df['companySizeBinned'].map({\"small\":1, \"medium\":2, \"large\": 3})"
      ],
      "metadata": {
        "id": "R6q9SWfMfpSR"
      },
      "execution_count": null,
      "outputs": []
    },
    {
      "cell_type": "code",
      "source": [
        "df['genderRecoded'] = df['gender'].map({\"Άντρας\":1, \"Γυναίκα\":0})"
      ],
      "metadata": {
        "id": "5RuLAXUVgjJY"
      },
      "execution_count": null,
      "outputs": []
    },
    {
      "cell_type": "code",
      "source": [
        "df['jobLocationRecoded'] = df['jobLocation'].map({\"Ελλάδα\":1, \"Εξωτερικό\":0})"
      ],
      "metadata": {
        "id": "grwEJAl2iBL5"
      },
      "execution_count": null,
      "outputs": []
    },
    {
      "cell_type": "markdown",
      "source": [
        "# Ordinary Least Square regression"
      ],
      "metadata": {
        "id": "Mu5haiv5hxdk"
      }
    },
    {
      "cell_type": "code",
      "source": [
        "df.columns"
      ],
      "metadata": {
        "colab": {
          "base_uri": "https://localhost:8080/"
        },
        "id": "rHh0IMKShwcN",
        "outputId": "5840733d-1bc4-4641-c811-76d7bbac7a2d"
      },
      "execution_count": null,
      "outputs": [
        {
          "output_type": "execute_result",
          "data": {
            "text/plain": [
              "Index(['salary', 'languages', 'experience', 'gender', 'jobLocation',\n",
              "       'companySize', 'languagesNumber', 'companySizeBinned',\n",
              "       'companySizeBinnedRecoded', 'genderRecoded', 'jobLocationRecoded'],\n",
              "      dtype='object')"
            ]
          },
          "metadata": {},
          "execution_count": 174
        }
      ]
    },
    {
      "cell_type": "code",
      "source": [
        "X = df[['genderRecoded', 'experience', 'languagesNumber', 'companySizeBinnedRecoded', 'jobLocationRecoded']]\n",
        "X.insert(0, 'intercept', 1)\n",
        "y = df['salary']"
      ],
      "metadata": {
        "id": "g_4SQWUSh4ml"
      },
      "execution_count": null,
      "outputs": []
    },
    {
      "cell_type": "code",
      "source": [
        "model = sm.OLS(y, X).fit()"
      ],
      "metadata": {
        "id": "U6L9Kf0fiqKN"
      },
      "execution_count": null,
      "outputs": []
    },
    {
      "cell_type": "code",
      "source": [
        "model.summary()"
      ],
      "metadata": {
        "colab": {
          "base_uri": "https://localhost:8080/",
          "height": 516
        },
        "id": "8k4QIbDOi0re",
        "outputId": "3cb51ec1-f099-4b27-a42a-8f201cdc4ad1"
      },
      "execution_count": null,
      "outputs": [
        {
          "output_type": "execute_result",
          "data": {
            "text/plain": [
              "<class 'statsmodels.iolib.summary.Summary'>\n",
              "\"\"\"\n",
              "                            OLS Regression Results                            \n",
              "==============================================================================\n",
              "Dep. Variable:                 salary   R-squared:                       0.321\n",
              "Model:                            OLS   Adj. R-squared:                  0.317\n",
              "Method:                 Least Squares   F-statistic:                     76.04\n",
              "Date:                Mon, 27 Nov 2023   Prob (F-statistic):           2.85e-65\n",
              "Time:                        13:25:05   Log-Likelihood:                -8095.5\n",
              "No. Observations:                 809   AIC:                         1.620e+04\n",
              "Df Residuals:                     803   BIC:                         1.623e+04\n",
              "Df Model:                           5                                         \n",
              "Covariance Type:            nonrobust                                         \n",
              "============================================================================================\n",
              "                               coef    std err          t      P>|t|      [0.025      0.975]\n",
              "--------------------------------------------------------------------------------------------\n",
              "intercept                 2.264e+04   1245.599     18.176      0.000    2.02e+04    2.51e+04\n",
              "genderRecoded              712.8264    865.005      0.824      0.410    -985.112    2410.764\n",
              "experience                 717.7014     45.529     15.764      0.000     628.332     807.070\n",
              "languagesNumber            -73.7877    223.683     -0.330      0.742    -512.860     365.285\n",
              "companySizeBinnedRecoded  1037.6986    220.377      4.709      0.000     605.115    1470.282\n",
              "jobLocationRecoded       -7683.0672    713.801    -10.764      0.000   -9084.204   -6281.931\n",
              "==============================================================================\n",
              "Omnibus:                       25.372   Durbin-Watson:                   2.045\n",
              "Prob(Omnibus):                  0.000   Jarque-Bera (JB):               60.106\n",
              "Skew:                          -0.020   Prob(JB):                     8.88e-14\n",
              "Kurtosis:                       4.335   Cond. No.                         49.2\n",
              "==============================================================================\n",
              "\n",
              "Notes:\n",
              "[1] Standard Errors assume that the covariance matrix of the errors is correctly specified.\n",
              "\"\"\""
            ],
            "text/html": [
              "<table class=\"simpletable\">\n",
              "<caption>OLS Regression Results</caption>\n",
              "<tr>\n",
              "  <th>Dep. Variable:</th>         <td>salary</td>      <th>  R-squared:         </th> <td>   0.321</td> \n",
              "</tr>\n",
              "<tr>\n",
              "  <th>Model:</th>                   <td>OLS</td>       <th>  Adj. R-squared:    </th> <td>   0.317</td> \n",
              "</tr>\n",
              "<tr>\n",
              "  <th>Method:</th>             <td>Least Squares</td>  <th>  F-statistic:       </th> <td>   76.04</td> \n",
              "</tr>\n",
              "<tr>\n",
              "  <th>Date:</th>             <td>Mon, 27 Nov 2023</td> <th>  Prob (F-statistic):</th> <td>2.85e-65</td> \n",
              "</tr>\n",
              "<tr>\n",
              "  <th>Time:</th>                 <td>13:25:05</td>     <th>  Log-Likelihood:    </th> <td> -8095.5</td> \n",
              "</tr>\n",
              "<tr>\n",
              "  <th>No. Observations:</th>      <td>   809</td>      <th>  AIC:               </th> <td>1.620e+04</td>\n",
              "</tr>\n",
              "<tr>\n",
              "  <th>Df Residuals:</th>          <td>   803</td>      <th>  BIC:               </th> <td>1.623e+04</td>\n",
              "</tr>\n",
              "<tr>\n",
              "  <th>Df Model:</th>              <td>     5</td>      <th>                     </th>     <td> </td>    \n",
              "</tr>\n",
              "<tr>\n",
              "  <th>Covariance Type:</th>      <td>nonrobust</td>    <th>                     </th>     <td> </td>    \n",
              "</tr>\n",
              "</table>\n",
              "<table class=\"simpletable\">\n",
              "<tr>\n",
              "              <td></td>                <th>coef</th>     <th>std err</th>      <th>t</th>      <th>P>|t|</th>  <th>[0.025</th>    <th>0.975]</th>  \n",
              "</tr>\n",
              "<tr>\n",
              "  <th>intercept</th>                <td> 2.264e+04</td> <td> 1245.599</td> <td>   18.176</td> <td> 0.000</td> <td> 2.02e+04</td> <td> 2.51e+04</td>\n",
              "</tr>\n",
              "<tr>\n",
              "  <th>genderRecoded</th>            <td>  712.8264</td> <td>  865.005</td> <td>    0.824</td> <td> 0.410</td> <td> -985.112</td> <td> 2410.764</td>\n",
              "</tr>\n",
              "<tr>\n",
              "  <th>experience</th>               <td>  717.7014</td> <td>   45.529</td> <td>   15.764</td> <td> 0.000</td> <td>  628.332</td> <td>  807.070</td>\n",
              "</tr>\n",
              "<tr>\n",
              "  <th>languagesNumber</th>          <td>  -73.7877</td> <td>  223.683</td> <td>   -0.330</td> <td> 0.742</td> <td> -512.860</td> <td>  365.285</td>\n",
              "</tr>\n",
              "<tr>\n",
              "  <th>companySizeBinnedRecoded</th> <td> 1037.6986</td> <td>  220.377</td> <td>    4.709</td> <td> 0.000</td> <td>  605.115</td> <td> 1470.282</td>\n",
              "</tr>\n",
              "<tr>\n",
              "  <th>jobLocationRecoded</th>       <td>-7683.0672</td> <td>  713.801</td> <td>  -10.764</td> <td> 0.000</td> <td>-9084.204</td> <td>-6281.931</td>\n",
              "</tr>\n",
              "</table>\n",
              "<table class=\"simpletable\">\n",
              "<tr>\n",
              "  <th>Omnibus:</th>       <td>25.372</td> <th>  Durbin-Watson:     </th> <td>   2.045</td>\n",
              "</tr>\n",
              "<tr>\n",
              "  <th>Prob(Omnibus):</th> <td> 0.000</td> <th>  Jarque-Bera (JB):  </th> <td>  60.106</td>\n",
              "</tr>\n",
              "<tr>\n",
              "  <th>Skew:</th>          <td>-0.020</td> <th>  Prob(JB):          </th> <td>8.88e-14</td>\n",
              "</tr>\n",
              "<tr>\n",
              "  <th>Kurtosis:</th>      <td> 4.335</td> <th>  Cond. No.          </th> <td>    49.2</td>\n",
              "</tr>\n",
              "</table><br/><br/>Notes:<br/>[1] Standard Errors assume that the covariance matrix of the errors is correctly specified."
            ],
            "text/latex": "\\begin{center}\n\\begin{tabular}{lclc}\n\\toprule\n\\textbf{Dep. Variable:}           &      salary      & \\textbf{  R-squared:         } &     0.321   \\\\\n\\textbf{Model:}                   &       OLS        & \\textbf{  Adj. R-squared:    } &     0.317   \\\\\n\\textbf{Method:}                  &  Least Squares   & \\textbf{  F-statistic:       } &     76.04   \\\\\n\\textbf{Date:}                    & Mon, 27 Nov 2023 & \\textbf{  Prob (F-statistic):} &  2.85e-65   \\\\\n\\textbf{Time:}                    &     13:25:05     & \\textbf{  Log-Likelihood:    } &   -8095.5   \\\\\n\\textbf{No. Observations:}        &         809      & \\textbf{  AIC:               } & 1.620e+04   \\\\\n\\textbf{Df Residuals:}            &         803      & \\textbf{  BIC:               } & 1.623e+04   \\\\\n\\textbf{Df Model:}                &           5      & \\textbf{                     } &             \\\\\n\\textbf{Covariance Type:}         &    nonrobust     & \\textbf{                     } &             \\\\\n\\bottomrule\n\\end{tabular}\n\\begin{tabular}{lcccccc}\n                                  & \\textbf{coef} & \\textbf{std err} & \\textbf{t} & \\textbf{P$> |$t$|$} & \\textbf{[0.025} & \\textbf{0.975]}  \\\\\n\\midrule\n\\textbf{intercept}                &    2.264e+04  &     1245.599     &    18.176  &         0.000        &     2.02e+04    &     2.51e+04     \\\\\n\\textbf{genderRecoded}            &     712.8264  &      865.005     &     0.824  &         0.410        &     -985.112    &     2410.764     \\\\\n\\textbf{experience}               &     717.7014  &       45.529     &    15.764  &         0.000        &      628.332    &      807.070     \\\\\n\\textbf{languagesNumber}          &     -73.7877  &      223.683     &    -0.330  &         0.742        &     -512.860    &      365.285     \\\\\n\\textbf{companySizeBinnedRecoded} &    1037.6986  &      220.377     &     4.709  &         0.000        &      605.115    &     1470.282     \\\\\n\\textbf{jobLocationRecoded}       &   -7683.0672  &      713.801     &   -10.764  &         0.000        &    -9084.204    &    -6281.931     \\\\\n\\bottomrule\n\\end{tabular}\n\\begin{tabular}{lclc}\n\\textbf{Omnibus:}       & 25.372 & \\textbf{  Durbin-Watson:     } &    2.045  \\\\\n\\textbf{Prob(Omnibus):} &  0.000 & \\textbf{  Jarque-Bera (JB):  } &   60.106  \\\\\n\\textbf{Skew:}          & -0.020 & \\textbf{  Prob(JB):          } & 8.88e-14  \\\\\n\\textbf{Kurtosis:}      &  4.335 & \\textbf{  Cond. No.          } &     49.2  \\\\\n\\bottomrule\n\\end{tabular}\n%\\caption{OLS Regression Results}\n\\end{center}\n\nNotes: \\newline\n [1] Standard Errors assume that the covariance matrix of the errors is correctly specified."
          },
          "metadata": {},
          "execution_count": 204
        }
      ]
    },
    {
      "cell_type": "code",
      "source": [
        "# Plot residuals\n",
        "sns.scatterplot(\n",
        "    x=model.get_prediction().summary_frame()['mean'],\n",
        "    y=model.resid\n",
        "    )\n",
        "plt.axhline(y=0)\n",
        "plt.xlabel(\"Fitted value\")\n",
        "plt.ylabel(\"Residuals\")\n",
        "plt.show()"
      ],
      "metadata": {
        "colab": {
          "base_uri": "https://localhost:8080/",
          "height": 449
        },
        "id": "iKzbT4dKkoLV",
        "outputId": "c121daa9-abd2-41ca-ff65-013d6ea0800e"
      },
      "execution_count": null,
      "outputs": [
        {
          "output_type": "display_data",
          "data": {
            "text/plain": [
              "<Figure size 640x480 with 1 Axes>"
            ],
            "image/png": "[encoded data removed]"
          },
          "metadata": {}
        }
      ]
    },
    {
      "cell_type": "code",
      "source": [
        "model.params"
      ],
      "metadata": {
        "colab": {
          "base_uri": "https://localhost:8080/"
        },
        "id": "PLQZVx2ykBAw",
        "outputId": "835b8095-6a67-46e4-a177-8e236e8b3af5"
      },
      "execution_count": null,
      "outputs": [
        {
          "output_type": "execute_result",
          "data": {
            "text/plain": [
              "intercept                   22640.493550\n",
              "genderRecoded                 712.826352\n",
              "experience                    717.701417\n",
              "languagesNumber               -73.787692\n",
              "companySizeBinnedRecoded     1037.698576\n",
              "jobLocationRecoded          -7683.067187\n",
              "dtype: float64"
            ]
          },
          "metadata": {},
          "execution_count": 206
        }
      ]
    },
    {
      "cell_type": "code",
      "source": [
        "22640 - 7683"
      ],
      "metadata": {
        "colab": {
          "base_uri": "https://localhost:8080/"
        },
        "id": "Bg1yH2RWrNAV",
        "outputId": "7160b1fd-2798-4781-c872-4bfb6961b5d7"
      },
      "execution_count": null,
      "outputs": [
        {
          "output_type": "execute_result",
          "data": {
            "text/plain": [
              "14957"
            ]
          },
          "metadata": {},
          "execution_count": 207
        }
      ]
    }
  ]
}